{
 "cells": [
  {
   "cell_type": "code",
   "execution_count": 44,
   "metadata": {},
   "outputs": [],
   "source": [
    "import requests\n",
    "import json\n",
    "import csv\n",
    "import time\n",
    "\n",
    "import pandas as pd\n",
    "import numpy as np\n",
    "import matplotlib.pyplot as plt\n",
    "\n",
    "from sklearn.preprocessing import MinMaxScaler\n",
    "from sklearn.metrics import mean_absolute_error\n",
    "\n",
    "from tensorflow import config\n",
    "from keras.preprocessing.sequence import TimeseriesGenerator\n",
    "from keras.models import Sequential\n",
    "from keras.layers import LSTM, Dense, InputLayer\n",
    "from keras.callbacks import EarlyStopping"
   ]
  },
  {
   "cell_type": "code",
   "execution_count": 6,
   "metadata": {},
   "outputs": [
    {
     "data": {
      "text/plain": [
       "[LogicalDevice(name='/device:CPU:0', device_type='CPU'),\n",
       " LogicalDevice(name='/device:GPU:0', device_type='GPU')]"
      ]
     },
     "execution_count": 6,
     "metadata": {},
     "output_type": "execute_result"
    }
   ],
   "source": [
    "config.list_logical_devices()"
   ]
  },
  {
   "attachments": {},
   "cell_type": "markdown",
   "metadata": {},
   "source": [
    "# Get the data from Binance api"
   ]
  },
  {
   "attachments": {},
   "cell_type": "markdown",
   "metadata": {},
   "source": [
    "## Get"
   ]
  },
  {
   "cell_type": "code",
   "execution_count": 7,
   "metadata": {},
   "outputs": [],
   "source": [
    "# You can create 'api_key.txt' file with your api key inside it (it's already in '.gitignore')\n",
    "# or just replace 'api_key.txt' => '{your_api_key}'\n",
    "api_key = open('api_key.txt', 'r').read()\n",
    "\n",
    "url = 'https://api.binance.com/api/v3/klines'\n",
    "\n",
    "symbol =  'BTCUSDT'\n",
    "interval =  '1h'\n",
    "limit = 1000\n",
    "headers = {\n",
    "    'X-MBX-APIKEY': api_key\n",
    "}\n",
    "\n",
    "# Get current date, 4 years ago\n",
    "start_time = int((time.time() - 126230400) * 1000) # 126230400 seconds = 4 years\n",
    "end_time = int(time.time() * 1000)\n",
    "\n",
    "results = []\n",
    "\n",
    "# Loop through the data until there is no more left\n",
    "while True:\n",
    "    # Initial request\n",
    "    params = {\n",
    "        'symbol': symbol, \n",
    "        'interval': interval, \n",
    "        'startTime': start_time, \n",
    "        'endTime': end_time, \n",
    "        'limit': limit\n",
    "    }\n",
    "    response = requests.get(url, headers=headers, params=params)\n",
    "\n",
    "    # Check if there is any data left\n",
    "    if not response.json():\n",
    "        break\n",
    "\n",
    "    # Add the data to results\n",
    "    results.extend(response.json())\n",
    "\n",
    "    # Set the start time for the next request\n",
    "    start_time = int(results[-1][0]) + 1\n"
   ]
  },
  {
   "attachments": {},
   "cell_type": "markdown",
   "metadata": {},
   "source": [
    "## Define dataframe columns and create datafile"
   ]
  },
  {
   "cell_type": "code",
   "execution_count": 8,
   "metadata": {},
   "outputs": [],
   "source": [
    "columns = ['open_time', 'open_price', 'high_price', 'low_price',\n",
    "            'close_price', 'Volume', 'close_time', 'quote_asset_volume',\n",
    "            'number_of_trades', 'taker_buy_base_asset_volume', 'taker_buy_quote_asset_volume', 'ignore']\n",
    "\n",
    "df = pd.DataFrame(results, columns=columns)\n"
   ]
  },
  {
   "cell_type": "code",
   "execution_count": 9,
   "metadata": {},
   "outputs": [],
   "source": [
    "df = df[['open_time', 'open_price']]\n",
    "\n",
    "with open('data.csv', 'w') as file:\n",
    "    file.write(df.to_csv())"
   ]
  },
  {
   "cell_type": "code",
   "execution_count": 10,
   "metadata": {},
   "outputs": [
    {
     "data": {
      "text/html": [
       "<div>\n",
       "<style scoped>\n",
       "    .dataframe tbody tr th:only-of-type {\n",
       "        vertical-align: middle;\n",
       "    }\n",
       "\n",
       "    .dataframe tbody tr th {\n",
       "        vertical-align: top;\n",
       "    }\n",
       "\n",
       "    .dataframe thead th {\n",
       "        text-align: right;\n",
       "    }\n",
       "</style>\n",
       "<table border=\"1\" class=\"dataframe\">\n",
       "  <thead>\n",
       "    <tr style=\"text-align: right;\">\n",
       "      <th></th>\n",
       "      <th>open_time</th>\n",
       "      <th>open_price</th>\n",
       "    </tr>\n",
       "  </thead>\n",
       "  <tbody>\n",
       "    <tr>\n",
       "      <th>0</th>\n",
       "      <td>1556067600000</td>\n",
       "      <td>5500.00000000</td>\n",
       "    </tr>\n",
       "    <tr>\n",
       "      <th>1</th>\n",
       "      <td>1556071200000</td>\n",
       "      <td>5497.75000000</td>\n",
       "    </tr>\n",
       "    <tr>\n",
       "      <th>2</th>\n",
       "      <td>1556074800000</td>\n",
       "      <td>5520.43000000</td>\n",
       "    </tr>\n",
       "    <tr>\n",
       "      <th>3</th>\n",
       "      <td>1556078400000</td>\n",
       "      <td>5531.32000000</td>\n",
       "    </tr>\n",
       "    <tr>\n",
       "      <th>4</th>\n",
       "      <td>1556082000000</td>\n",
       "      <td>5556.90000000</td>\n",
       "    </tr>\n",
       "    <tr>\n",
       "      <th>...</th>\n",
       "      <td>...</td>\n",
       "      <td>...</td>\n",
       "    </tr>\n",
       "    <tr>\n",
       "      <th>35005</th>\n",
       "      <td>1682280000000</td>\n",
       "      <td>27465.78000000</td>\n",
       "    </tr>\n",
       "    <tr>\n",
       "      <th>35006</th>\n",
       "      <td>1682283600000</td>\n",
       "      <td>27504.62000000</td>\n",
       "    </tr>\n",
       "    <tr>\n",
       "      <th>35007</th>\n",
       "      <td>1682287200000</td>\n",
       "      <td>27517.83000000</td>\n",
       "    </tr>\n",
       "    <tr>\n",
       "      <th>35008</th>\n",
       "      <td>1682290800000</td>\n",
       "      <td>27591.73000000</td>\n",
       "    </tr>\n",
       "    <tr>\n",
       "      <th>35009</th>\n",
       "      <td>1682294400000</td>\n",
       "      <td>27590.59000000</td>\n",
       "    </tr>\n",
       "  </tbody>\n",
       "</table>\n",
       "<p>35010 rows × 2 columns</p>\n",
       "</div>"
      ],
      "text/plain": [
       "           open_time      open_price\n",
       "0      1556067600000   5500.00000000\n",
       "1      1556071200000   5497.75000000\n",
       "2      1556074800000   5520.43000000\n",
       "3      1556078400000   5531.32000000\n",
       "4      1556082000000   5556.90000000\n",
       "...              ...             ...\n",
       "35005  1682280000000  27465.78000000\n",
       "35006  1682283600000  27504.62000000\n",
       "35007  1682287200000  27517.83000000\n",
       "35008  1682290800000  27591.73000000\n",
       "35009  1682294400000  27590.59000000\n",
       "\n",
       "[35010 rows x 2 columns]"
      ]
     },
     "execution_count": 10,
     "metadata": {},
     "output_type": "execute_result"
    }
   ],
   "source": [
    "df"
   ]
  },
  {
   "attachments": {},
   "cell_type": "markdown",
   "metadata": {},
   "source": [
    "# Preparing data"
   ]
  },
  {
   "cell_type": "code",
   "execution_count": 11,
   "metadata": {},
   "outputs": [
    {
     "name": "stdout",
     "output_type": "stream",
     "text": [
      "<class 'pandas.core.frame.DataFrame'>\n",
      "RangeIndex: 35010 entries, 0 to 35009\n",
      "Data columns (total 2 columns):\n",
      " #   Column      Non-Null Count  Dtype \n",
      "---  ------      --------------  ----- \n",
      " 0   open_time   35010 non-null  int64 \n",
      " 1   open_price  35010 non-null  object\n",
      "dtypes: int64(1), object(1)\n",
      "memory usage: 547.2+ KB\n"
     ]
    }
   ],
   "source": [
    "df.info()"
   ]
  },
  {
   "attachments": {},
   "cell_type": "markdown",
   "metadata": {},
   "source": [
    "### Split df to dates and prices"
   ]
  },
  {
   "cell_type": "code",
   "execution_count": 12,
   "metadata": {},
   "outputs": [],
   "source": [
    "df_dates = df['open_time']\n",
    "df_prices = df['open_price']"
   ]
  },
  {
   "cell_type": "code",
   "execution_count": 13,
   "metadata": {},
   "outputs": [
    {
     "data": {
      "text/plain": [
       "0         5500.00000000\n",
       "1         5497.75000000\n",
       "2         5520.43000000\n",
       "3         5531.32000000\n",
       "4         5556.90000000\n",
       "              ...      \n",
       "35005    27465.78000000\n",
       "35006    27504.62000000\n",
       "35007    27517.83000000\n",
       "35008    27591.73000000\n",
       "35009    27590.59000000\n",
       "Name: open_price, Length: 35010, dtype: object"
      ]
     },
     "execution_count": 13,
     "metadata": {},
     "output_type": "execute_result"
    }
   ],
   "source": [
    "df_prices"
   ]
  },
  {
   "attachments": {},
   "cell_type": "markdown",
   "metadata": {},
   "source": [
    "### Change df_prices type from object to float"
   ]
  },
  {
   "cell_type": "code",
   "execution_count": 14,
   "metadata": {},
   "outputs": [],
   "source": [
    "df_prices = df_prices.astype(float)"
   ]
  },
  {
   "cell_type": "code",
   "execution_count": 15,
   "metadata": {},
   "outputs": [
    {
     "data": {
      "text/plain": [
       "0         5500.00\n",
       "1         5497.75\n",
       "2         5520.43\n",
       "3         5531.32\n",
       "4         5556.90\n",
       "           ...   \n",
       "35005    27465.78\n",
       "35006    27504.62\n",
       "35007    27517.83\n",
       "35008    27591.73\n",
       "35009    27590.59\n",
       "Name: open_price, Length: 35010, dtype: float64"
      ]
     },
     "execution_count": 15,
     "metadata": {},
     "output_type": "execute_result"
    }
   ],
   "source": [
    "df_prices"
   ]
  },
  {
   "attachments": {},
   "cell_type": "markdown",
   "metadata": {},
   "source": [
    "## Split into training, validation and test"
   ]
  },
  {
   "cell_type": "code",
   "execution_count": 66,
   "metadata": {},
   "outputs": [],
   "source": [
    "train_valid_border =int(len(df_prices) * 0.65)\n",
    "valid_test_border = int(len(df_prices) * 0.75)\n",
    "\n",
    "train, valid, test = np.split(df_prices, [train_valid_border, valid_test_border])"
   ]
  },
  {
   "cell_type": "code",
   "execution_count": 67,
   "metadata": {},
   "outputs": [
    {
     "data": {
      "text/plain": [
       "(22756, 3501, 8753)"
      ]
     },
     "execution_count": 67,
     "metadata": {},
     "output_type": "execute_result"
    }
   ],
   "source": [
    "len(train), len(valid), len(test)"
   ]
  },
  {
   "attachments": {},
   "cell_type": "markdown",
   "metadata": {},
   "source": [
    "### Save min and max"
   ]
  },
  {
   "cell_type": "code",
   "execution_count": 105,
   "metadata": {},
   "outputs": [],
   "source": [
    "with open('./train_min_max_std/min.txt', 'w') as file:\n",
    "    file.write(str(train.min()))\n",
    "\n",
    "with open('./train_min_max_std/max.txt', 'w') as file:\n",
    "    file.write(str(train.max()))"
   ]
  },
  {
   "attachments": {},
   "cell_type": "markdown",
   "metadata": {},
   "source": [
    "# Scale"
   ]
  },
  {
   "cell_type": "code",
   "execution_count": 109,
   "metadata": {},
   "outputs": [],
   "source": [
    "scaler = MinMaxScaler()\n",
    "\n",
    "train_norm = scaler.fit_transform(train.values.reshape(-1, 1))\n",
    "valid_norm = scaler.fit_transform(valid.values.reshape(-1, 1))\n",
    "test_norm = scaler.fit_transform(test.values.reshape(-1, 1))"
   ]
  },
  {
   "attachments": {},
   "cell_type": "markdown",
   "metadata": {},
   "source": [
    "## Plot"
   ]
  },
  {
   "cell_type": "code",
   "execution_count": 112,
   "metadata": {},
   "outputs": [
    {
     "data": {
      "text/plain": [
       "Text(0, 0.5, 'Exchange rate BTC to USDT')"
      ]
     },
     "execution_count": 112,
     "metadata": {},
     "output_type": "execute_result"
    },
    {
     "data": {
      "image/png": "[encoded data removed]",
      "text/plain": [
       "<Figure size 640x480 with 1 Axes>"
      ]
     },
     "metadata": {},
     "output_type": "display_data"
    }
   ],
   "source": [
    "plt.plot(df_dates[:train_valid_border], train_norm)\n",
    "plt.title('train')\n",
    "plt.xlabel('Date from 1 year ago to now')\n",
    "plt.ylabel('Exchange rate BTC to USDT')"
   ]
  },
  {
   "cell_type": "code",
   "execution_count": 110,
   "metadata": {},
   "outputs": [
    {
     "data": {
      "text/plain": [
       "Text(0, 0.5, 'Exchange rate BTC to USDT')"
      ]
     },
     "execution_count": 110,
     "metadata": {},
     "output_type": "execute_result"
    },
    {
     "data": {
      "image/png": "[encoded data removed]",
      "text/plain": [
       "<Figure size 640x480 with 1 Axes>"
      ]
     },
     "metadata": {},
     "output_type": "display_data"
    }
   ],
   "source": [
    "plt.plot(df_dates[train_valid_border:valid_test_border], valid_norm)\n",
    "plt.title('valid')\n",
    "plt.xlabel('Date from 1 year ago to now')\n",
    "plt.ylabel('Exchange rate BTC to USDT')"
   ]
  },
  {
   "cell_type": "code",
   "execution_count": 113,
   "metadata": {},
   "outputs": [
    {
     "data": {
      "text/plain": [
       "Text(0, 0.5, 'Exchange rate BTC to USDT')"
      ]
     },
     "execution_count": 113,
     "metadata": {},
     "output_type": "execute_result"
    },
    {
     "data": {
      "image/png": "[encoded data removed]",
      "text/plain": [
       "<Figure size 640x480 with 1 Axes>"
      ]
     },
     "metadata": {},
     "output_type": "display_data"
    }
   ],
   "source": [
    "plt.plot(df_dates[valid_test_border:], test_norm)\n",
    "plt.title('test')\n",
    "plt.xlabel('Date from 1 year ago to now')\n",
    "plt.ylabel('Exchange rate BTC to USDT')"
   ]
  },
  {
   "attachments": {},
   "cell_type": "markdown",
   "metadata": {},
   "source": [
    "# Arrays => X, y  (Time series)"
   ]
  },
  {
   "cell_type": "code",
   "execution_count": 22,
   "metadata": {},
   "outputs": [
    {
     "name": "stdout",
     "output_type": "stream",
     "text": [
      "Number of batches in train_gen: 221\n"
     ]
    }
   ],
   "source": [
    "look_back = 720 # x will be last 720 hours for each y\n",
    "\n",
    "train_gen = TimeseriesGenerator(train_norm, train_norm, length=look_back, batch_size=100)\n",
    "valid_gen = TimeseriesGenerator(valid_norm, valid_norm, length=look_back, batch_size=1)\n",
    "test_gen = TimeseriesGenerator(test_norm, test_norm, length=look_back, batch_size=1)\n",
    "\n",
    "print('Number of batches in train_gen:', train_gen.__len__())"
   ]
  },
  {
   "attachments": {},
   "cell_type": "markdown",
   "metadata": {},
   "source": [
    "### X for first batch in train_gen (as pd dataframe)"
   ]
  },
  {
   "cell_type": "code",
   "execution_count": 23,
   "metadata": {},
   "outputs": [
    {
     "data": {
      "text/html": [
       "<div>\n",
       "<style scoped>\n",
       "    .dataframe tbody tr th:only-of-type {\n",
       "        vertical-align: middle;\n",
       "    }\n",
       "\n",
       "    .dataframe tbody tr th {\n",
       "        vertical-align: top;\n",
       "    }\n",
       "\n",
       "    .dataframe thead th {\n",
       "        text-align: right;\n",
       "    }\n",
       "</style>\n",
       "<table border=\"1\" class=\"dataframe\">\n",
       "  <thead>\n",
       "    <tr style=\"text-align: right;\">\n",
       "      <th></th>\n",
       "      <th>0</th>\n",
       "      <th>1</th>\n",
       "      <th>2</th>\n",
       "      <th>3</th>\n",
       "      <th>4</th>\n",
       "      <th>5</th>\n",
       "      <th>6</th>\n",
       "      <th>7</th>\n",
       "      <th>8</th>\n",
       "      <th>9</th>\n",
       "      <th>...</th>\n",
       "      <th>710</th>\n",
       "      <th>711</th>\n",
       "      <th>712</th>\n",
       "      <th>713</th>\n",
       "      <th>714</th>\n",
       "      <th>715</th>\n",
       "      <th>716</th>\n",
       "      <th>717</th>\n",
       "      <th>718</th>\n",
       "      <th>719</th>\n",
       "    </tr>\n",
       "  </thead>\n",
       "  <tbody>\n",
       "    <tr>\n",
       "      <th>0</th>\n",
       "      <td>0.021220</td>\n",
       "      <td>0.021185</td>\n",
       "      <td>0.021537</td>\n",
       "      <td>0.021706</td>\n",
       "      <td>0.022102</td>\n",
       "      <td>0.022242</td>\n",
       "      <td>0.022132</td>\n",
       "      <td>0.019989</td>\n",
       "      <td>0.020352</td>\n",
       "      <td>0.020074</td>\n",
       "      <td>...</td>\n",
       "      <td>0.057804</td>\n",
       "      <td>0.057463</td>\n",
       "      <td>0.057319</td>\n",
       "      <td>0.057623</td>\n",
       "      <td>0.057144</td>\n",
       "      <td>0.057162</td>\n",
       "      <td>0.057658</td>\n",
       "      <td>0.057700</td>\n",
       "      <td>0.058815</td>\n",
       "      <td>0.058797</td>\n",
       "    </tr>\n",
       "    <tr>\n",
       "      <th>1</th>\n",
       "      <td>0.021185</td>\n",
       "      <td>0.021537</td>\n",
       "      <td>0.021706</td>\n",
       "      <td>0.022102</td>\n",
       "      <td>0.022242</td>\n",
       "      <td>0.022132</td>\n",
       "      <td>0.019989</td>\n",
       "      <td>0.020352</td>\n",
       "      <td>0.020074</td>\n",
       "      <td>0.019357</td>\n",
       "      <td>...</td>\n",
       "      <td>0.057463</td>\n",
       "      <td>0.057319</td>\n",
       "      <td>0.057623</td>\n",
       "      <td>0.057144</td>\n",
       "      <td>0.057162</td>\n",
       "      <td>0.057658</td>\n",
       "      <td>0.057700</td>\n",
       "      <td>0.058815</td>\n",
       "      <td>0.058797</td>\n",
       "      <td>0.058939</td>\n",
       "    </tr>\n",
       "    <tr>\n",
       "      <th>2</th>\n",
       "      <td>0.021537</td>\n",
       "      <td>0.021706</td>\n",
       "      <td>0.022102</td>\n",
       "      <td>0.022242</td>\n",
       "      <td>0.022132</td>\n",
       "      <td>0.019989</td>\n",
       "      <td>0.020352</td>\n",
       "      <td>0.020074</td>\n",
       "      <td>0.019357</td>\n",
       "      <td>0.019447</td>\n",
       "      <td>...</td>\n",
       "      <td>0.057319</td>\n",
       "      <td>0.057623</td>\n",
       "      <td>0.057144</td>\n",
       "      <td>0.057162</td>\n",
       "      <td>0.057658</td>\n",
       "      <td>0.057700</td>\n",
       "      <td>0.058815</td>\n",
       "      <td>0.058797</td>\n",
       "      <td>0.058939</td>\n",
       "      <td>0.059646</td>\n",
       "    </tr>\n",
       "    <tr>\n",
       "      <th>3</th>\n",
       "      <td>0.021706</td>\n",
       "      <td>0.022102</td>\n",
       "      <td>0.022242</td>\n",
       "      <td>0.022132</td>\n",
       "      <td>0.019989</td>\n",
       "      <td>0.020352</td>\n",
       "      <td>0.020074</td>\n",
       "      <td>0.019357</td>\n",
       "      <td>0.019447</td>\n",
       "      <td>0.019877</td>\n",
       "      <td>...</td>\n",
       "      <td>0.057623</td>\n",
       "      <td>0.057144</td>\n",
       "      <td>0.057162</td>\n",
       "      <td>0.057658</td>\n",
       "      <td>0.057700</td>\n",
       "      <td>0.058815</td>\n",
       "      <td>0.058797</td>\n",
       "      <td>0.058939</td>\n",
       "      <td>0.059646</td>\n",
       "      <td>0.059792</td>\n",
       "    </tr>\n",
       "    <tr>\n",
       "      <th>4</th>\n",
       "      <td>0.022102</td>\n",
       "      <td>0.022242</td>\n",
       "      <td>0.022132</td>\n",
       "      <td>0.019989</td>\n",
       "      <td>0.020352</td>\n",
       "      <td>0.020074</td>\n",
       "      <td>0.019357</td>\n",
       "      <td>0.019447</td>\n",
       "      <td>0.019877</td>\n",
       "      <td>0.019610</td>\n",
       "      <td>...</td>\n",
       "      <td>0.057144</td>\n",
       "      <td>0.057162</td>\n",
       "      <td>0.057658</td>\n",
       "      <td>0.057700</td>\n",
       "      <td>0.058815</td>\n",
       "      <td>0.058797</td>\n",
       "      <td>0.058939</td>\n",
       "      <td>0.059646</td>\n",
       "      <td>0.059792</td>\n",
       "      <td>0.058908</td>\n",
       "    </tr>\n",
       "    <tr>\n",
       "      <th>...</th>\n",
       "      <td>...</td>\n",
       "      <td>...</td>\n",
       "      <td>...</td>\n",
       "      <td>...</td>\n",
       "      <td>...</td>\n",
       "      <td>...</td>\n",
       "      <td>...</td>\n",
       "      <td>...</td>\n",
       "      <td>...</td>\n",
       "      <td>...</td>\n",
       "      <td>...</td>\n",
       "      <td>...</td>\n",
       "      <td>...</td>\n",
       "      <td>...</td>\n",
       "      <td>...</td>\n",
       "      <td>...</td>\n",
       "      <td>...</td>\n",
       "      <td>...</td>\n",
       "      <td>...</td>\n",
       "      <td>...</td>\n",
       "      <td>...</td>\n",
       "    </tr>\n",
       "    <tr>\n",
       "      <th>95</th>\n",
       "      <td>0.018053</td>\n",
       "      <td>0.018277</td>\n",
       "      <td>0.018206</td>\n",
       "      <td>0.017989</td>\n",
       "      <td>0.018221</td>\n",
       "      <td>0.018093</td>\n",
       "      <td>0.018292</td>\n",
       "      <td>0.018311</td>\n",
       "      <td>0.018420</td>\n",
       "      <td>0.018432</td>\n",
       "      <td>...</td>\n",
       "      <td>0.071644</td>\n",
       "      <td>0.071242</td>\n",
       "      <td>0.071875</td>\n",
       "      <td>0.071958</td>\n",
       "      <td>0.071779</td>\n",
       "      <td>0.071558</td>\n",
       "      <td>0.071102</td>\n",
       "      <td>0.070491</td>\n",
       "      <td>0.071163</td>\n",
       "      <td>0.070996</td>\n",
       "    </tr>\n",
       "    <tr>\n",
       "      <th>96</th>\n",
       "      <td>0.018277</td>\n",
       "      <td>0.018206</td>\n",
       "      <td>0.017989</td>\n",
       "      <td>0.018221</td>\n",
       "      <td>0.018093</td>\n",
       "      <td>0.018292</td>\n",
       "      <td>0.018311</td>\n",
       "      <td>0.018420</td>\n",
       "      <td>0.018432</td>\n",
       "      <td>0.018334</td>\n",
       "      <td>...</td>\n",
       "      <td>0.071242</td>\n",
       "      <td>0.071875</td>\n",
       "      <td>0.071958</td>\n",
       "      <td>0.071779</td>\n",
       "      <td>0.071558</td>\n",
       "      <td>0.071102</td>\n",
       "      <td>0.070491</td>\n",
       "      <td>0.071163</td>\n",
       "      <td>0.070996</td>\n",
       "      <td>0.071029</td>\n",
       "    </tr>\n",
       "    <tr>\n",
       "      <th>97</th>\n",
       "      <td>0.018206</td>\n",
       "      <td>0.017989</td>\n",
       "      <td>0.018221</td>\n",
       "      <td>0.018093</td>\n",
       "      <td>0.018292</td>\n",
       "      <td>0.018311</td>\n",
       "      <td>0.018420</td>\n",
       "      <td>0.018432</td>\n",
       "      <td>0.018334</td>\n",
       "      <td>0.018581</td>\n",
       "      <td>...</td>\n",
       "      <td>0.071875</td>\n",
       "      <td>0.071958</td>\n",
       "      <td>0.071779</td>\n",
       "      <td>0.071558</td>\n",
       "      <td>0.071102</td>\n",
       "      <td>0.070491</td>\n",
       "      <td>0.071163</td>\n",
       "      <td>0.070996</td>\n",
       "      <td>0.071029</td>\n",
       "      <td>0.070568</td>\n",
       "    </tr>\n",
       "    <tr>\n",
       "      <th>98</th>\n",
       "      <td>0.017989</td>\n",
       "      <td>0.018221</td>\n",
       "      <td>0.018093</td>\n",
       "      <td>0.018292</td>\n",
       "      <td>0.018311</td>\n",
       "      <td>0.018420</td>\n",
       "      <td>0.018432</td>\n",
       "      <td>0.018334</td>\n",
       "      <td>0.018581</td>\n",
       "      <td>0.018658</td>\n",
       "      <td>...</td>\n",
       "      <td>0.071958</td>\n",
       "      <td>0.071779</td>\n",
       "      <td>0.071558</td>\n",
       "      <td>0.071102</td>\n",
       "      <td>0.070491</td>\n",
       "      <td>0.071163</td>\n",
       "      <td>0.070996</td>\n",
       "      <td>0.071029</td>\n",
       "      <td>0.070568</td>\n",
       "      <td>0.071362</td>\n",
       "    </tr>\n",
       "    <tr>\n",
       "      <th>99</th>\n",
       "      <td>0.018221</td>\n",
       "      <td>0.018093</td>\n",
       "      <td>0.018292</td>\n",
       "      <td>0.018311</td>\n",
       "      <td>0.018420</td>\n",
       "      <td>0.018432</td>\n",
       "      <td>0.018334</td>\n",
       "      <td>0.018581</td>\n",
       "      <td>0.018658</td>\n",
       "      <td>0.018437</td>\n",
       "      <td>...</td>\n",
       "      <td>0.071779</td>\n",
       "      <td>0.071558</td>\n",
       "      <td>0.071102</td>\n",
       "      <td>0.070491</td>\n",
       "      <td>0.071163</td>\n",
       "      <td>0.070996</td>\n",
       "      <td>0.071029</td>\n",
       "      <td>0.070568</td>\n",
       "      <td>0.071362</td>\n",
       "      <td>0.070724</td>\n",
       "    </tr>\n",
       "  </tbody>\n",
       "</table>\n",
       "<p>100 rows × 720 columns</p>\n",
       "</div>"
      ],
      "text/plain": [
       "         0         1         2         3         4         5         6     \n",
       "0   0.021220  0.021185  0.021537  0.021706  0.022102  0.022242  0.022132  \\\n",
       "1   0.021185  0.021537  0.021706  0.022102  0.022242  0.022132  0.019989   \n",
       "2   0.021537  0.021706  0.022102  0.022242  0.022132  0.019989  0.020352   \n",
       "3   0.021706  0.022102  0.022242  0.022132  0.019989  0.020352  0.020074   \n",
       "4   0.022102  0.022242  0.022132  0.019989  0.020352  0.020074  0.019357   \n",
       "..       ...       ...       ...       ...       ...       ...       ...   \n",
       "95  0.018053  0.018277  0.018206  0.017989  0.018221  0.018093  0.018292   \n",
       "96  0.018277  0.018206  0.017989  0.018221  0.018093  0.018292  0.018311   \n",
       "97  0.018206  0.017989  0.018221  0.018093  0.018292  0.018311  0.018420   \n",
       "98  0.017989  0.018221  0.018093  0.018292  0.018311  0.018420  0.018432   \n",
       "99  0.018221  0.018093  0.018292  0.018311  0.018420  0.018432  0.018334   \n",
       "\n",
       "         7         8         9    ...       710       711       712       713   \n",
       "0   0.019989  0.020352  0.020074  ...  0.057804  0.057463  0.057319  0.057623  \\\n",
       "1   0.020352  0.020074  0.019357  ...  0.057463  0.057319  0.057623  0.057144   \n",
       "2   0.020074  0.019357  0.019447  ...  0.057319  0.057623  0.057144  0.057162   \n",
       "3   0.019357  0.019447  0.019877  ...  0.057623  0.057144  0.057162  0.057658   \n",
       "4   0.019447  0.019877  0.019610  ...  0.057144  0.057162  0.057658  0.057700   \n",
       "..       ...       ...       ...  ...       ...       ...       ...       ...   \n",
       "95  0.018311  0.018420  0.018432  ...  0.071644  0.071242  0.071875  0.071958   \n",
       "96  0.018420  0.018432  0.018334  ...  0.071242  0.071875  0.071958  0.071779   \n",
       "97  0.018432  0.018334  0.018581  ...  0.071875  0.071958  0.071779  0.071558   \n",
       "98  0.018334  0.018581  0.018658  ...  0.071958  0.071779  0.071558  0.071102   \n",
       "99  0.018581  0.018658  0.018437  ...  0.071779  0.071558  0.071102  0.070491   \n",
       "\n",
       "         714       715       716       717       718       719  \n",
       "0   0.057144  0.057162  0.057658  0.057700  0.058815  0.058797  \n",
       "1   0.057162  0.057658  0.057700  0.058815  0.058797  0.058939  \n",
       "2   0.057658  0.057700  0.058815  0.058797  0.058939  0.059646  \n",
       "3   0.057700  0.058815  0.058797  0.058939  0.059646  0.059792  \n",
       "4   0.058815  0.058797  0.058939  0.059646  0.059792  0.058908  \n",
       "..       ...       ...       ...       ...       ...       ...  \n",
       "95  0.071779  0.071558  0.071102  0.070491  0.071163  0.070996  \n",
       "96  0.071558  0.071102  0.070491  0.071163  0.070996  0.071029  \n",
       "97  0.071102  0.070491  0.071163  0.070996  0.071029  0.070568  \n",
       "98  0.070491  0.071163  0.070996  0.071029  0.070568  0.071362  \n",
       "99  0.071163  0.070996  0.071029  0.070568  0.071362  0.070724  \n",
       "\n",
       "[100 rows x 720 columns]"
      ]
     },
     "execution_count": 23,
     "metadata": {},
     "output_type": "execute_result"
    }
   ],
   "source": [
    "pd.DataFrame(train_gen.__getitem__(0)[0][...,0])"
   ]
  },
  {
   "attachments": {},
   "cell_type": "markdown",
   "metadata": {},
   "source": [
    "### y for first batch in train_gen (as pd dataframe)"
   ]
  },
  {
   "cell_type": "code",
   "execution_count": 24,
   "metadata": {},
   "outputs": [
    {
     "data": {
      "text/html": [
       "<div>\n",
       "<style scoped>\n",
       "    .dataframe tbody tr th:only-of-type {\n",
       "        vertical-align: middle;\n",
       "    }\n",
       "\n",
       "    .dataframe tbody tr th {\n",
       "        vertical-align: top;\n",
       "    }\n",
       "\n",
       "    .dataframe thead th {\n",
       "        text-align: right;\n",
       "    }\n",
       "</style>\n",
       "<table border=\"1\" class=\"dataframe\">\n",
       "  <thead>\n",
       "    <tr style=\"text-align: right;\">\n",
       "      <th></th>\n",
       "      <th>0</th>\n",
       "    </tr>\n",
       "  </thead>\n",
       "  <tbody>\n",
       "    <tr>\n",
       "      <th>0</th>\n",
       "      <td>0.058939</td>\n",
       "    </tr>\n",
       "    <tr>\n",
       "      <th>1</th>\n",
       "      <td>0.059646</td>\n",
       "    </tr>\n",
       "    <tr>\n",
       "      <th>2</th>\n",
       "      <td>0.059792</td>\n",
       "    </tr>\n",
       "    <tr>\n",
       "      <th>3</th>\n",
       "      <td>0.058908</td>\n",
       "    </tr>\n",
       "    <tr>\n",
       "      <th>4</th>\n",
       "      <td>0.059931</td>\n",
       "    </tr>\n",
       "    <tr>\n",
       "      <th>...</th>\n",
       "      <td>...</td>\n",
       "    </tr>\n",
       "    <tr>\n",
       "      <th>95</th>\n",
       "      <td>0.071029</td>\n",
       "    </tr>\n",
       "    <tr>\n",
       "      <th>96</th>\n",
       "      <td>0.070568</td>\n",
       "    </tr>\n",
       "    <tr>\n",
       "      <th>97</th>\n",
       "      <td>0.071362</td>\n",
       "    </tr>\n",
       "    <tr>\n",
       "      <th>98</th>\n",
       "      <td>0.070724</td>\n",
       "    </tr>\n",
       "    <tr>\n",
       "      <th>99</th>\n",
       "      <td>0.069951</td>\n",
       "    </tr>\n",
       "  </tbody>\n",
       "</table>\n",
       "<p>100 rows × 1 columns</p>\n",
       "</div>"
      ],
      "text/plain": [
       "           0\n",
       "0   0.058939\n",
       "1   0.059646\n",
       "2   0.059792\n",
       "3   0.058908\n",
       "4   0.059931\n",
       "..       ...\n",
       "95  0.071029\n",
       "96  0.070568\n",
       "97  0.071362\n",
       "98  0.070724\n",
       "99  0.069951\n",
       "\n",
       "[100 rows x 1 columns]"
      ]
     },
     "execution_count": 24,
     "metadata": {},
     "output_type": "execute_result"
    }
   ],
   "source": [
    "pd.DataFrame(train_gen.__getitem__(0)[1])"
   ]
  },
  {
   "attachments": {},
   "cell_type": "markdown",
   "metadata": {},
   "source": [
    "# Training"
   ]
  },
  {
   "cell_type": "code",
   "execution_count": 27,
   "metadata": {},
   "outputs": [
    {
     "name": "stdout",
     "output_type": "stream",
     "text": [
      "Epoch 1/20\n"
     ]
    },
    {
     "name": "stderr",
     "output_type": "stream",
     "text": [
      "C:\\Users\\Evgeny\\AppData\\Local\\Temp\\ipykernel_5284\\1957685753.py:13: UserWarning: `Model.fit_generator` is deprecated and will be removed in a future version. Please use `Model.fit`, which supports generators.\n",
      "  model.fit_generator(train_gen, epochs=20, validation_data=valid_gen, callbacks=early_stopping)\n"
     ]
    },
    {
     "name": "stdout",
     "output_type": "stream",
     "text": [
      "221/221 [==============================] - 81s 357ms/step - loss: 0.0905 - accuracy: 0.0000e+00 - val_loss: 0.0717 - val_accuracy: 0.0000e+00\n",
      "Epoch 2/20\n",
      "221/221 [==============================] - 75s 342ms/step - loss: 0.0542 - accuracy: 0.0000e+00 - val_loss: 0.0584 - val_accuracy: 0.0000e+00\n",
      "Epoch 3/20\n",
      "221/221 [==============================] - 75s 340ms/step - loss: 0.0474 - accuracy: 0.0000e+00 - val_loss: 0.0576 - val_accuracy: 0.0000e+00\n",
      "Epoch 4/20\n",
      "221/221 [==============================] - 74s 337ms/step - loss: 0.0477 - accuracy: 0.0000e+00 - val_loss: 0.0657 - val_accuracy: 0.0000e+00\n",
      "Epoch 5/20\n",
      "221/221 [==============================] - 79s 357ms/step - loss: 0.0306 - accuracy: 0.1878 - val_loss: 0.0207 - val_accuracy: 0.0014\n",
      "Epoch 6/20\n",
      "221/221 [==============================] - 73s 330ms/step - loss: 0.0081 - accuracy: 0.2416 - val_loss: 0.0164 - val_accuracy: 0.0000e+00\n",
      "Epoch 7/20\n",
      "221/221 [==============================] - 72s 329ms/step - loss: 0.0089 - accuracy: 0.1119 - val_loss: 0.0153 - val_accuracy: 7.1917e-04\n",
      "Epoch 8/20\n",
      "221/221 [==============================] - 73s 330ms/step - loss: 0.0074 - accuracy: 0.1120 - val_loss: 0.0131 - val_accuracy: 0.0496\n",
      "Epoch 9/20\n",
      "221/221 [==============================] - 73s 332ms/step - loss: 0.0105 - accuracy: 0.0693 - val_loss: 0.0177 - val_accuracy: 0.0000e+00\n",
      "Epoch 10/20\n",
      "221/221 [==============================] - 72s 329ms/step - loss: 0.0080 - accuracy: 0.0726 - val_loss: 0.0146 - val_accuracy: 0.0000e+00\n",
      "Epoch 11/20\n",
      "221/221 [==============================] - 72s 327ms/step - loss: 0.0071 - accuracy: 0.1389 - val_loss: 0.0168 - val_accuracy: 0.0000e+00\n",
      "Epoch 12/20\n",
      "221/221 [==============================] - 72s 329ms/step - loss: 0.0070 - accuracy: 0.1739 - val_loss: 0.0124 - val_accuracy: 0.3179\n",
      "Epoch 13/20\n",
      "221/221 [==============================] - 72s 329ms/step - loss: 0.0062 - accuracy: 0.0872 - val_loss: 0.0119 - val_accuracy: 0.0424\n",
      "Epoch 14/20\n",
      "221/221 [==============================] - 74s 338ms/step - loss: 0.0059 - accuracy: 0.1122 - val_loss: 0.0116 - val_accuracy: 0.1748\n",
      "Epoch 15/20\n",
      "221/221 [==============================] - 72s 329ms/step - loss: 0.0090 - accuracy: 0.0813 - val_loss: 0.0112 - val_accuracy: 0.0187\n",
      "Epoch 16/20\n",
      "221/221 [==============================] - 72s 329ms/step - loss: 0.0058 - accuracy: 0.0607 - val_loss: 0.0124 - val_accuracy: 0.0083\n",
      "Epoch 17/20\n",
      "221/221 [==============================] - 72s 329ms/step - loss: 0.0070 - accuracy: 0.1127 - val_loss: 0.0110 - val_accuracy: 0.0043\n",
      "Epoch 18/20\n",
      "221/221 [==============================] - 72s 328ms/step - loss: 0.0076 - accuracy: 0.0740 - val_loss: 0.0146 - val_accuracy: 0.0237\n",
      "Epoch 19/20\n",
      "221/221 [==============================] - 72s 328ms/step - loss: 0.0104 - accuracy: 0.1726 - val_loss: 0.0120 - val_accuracy: 0.6253\n",
      "Epoch 20/20\n",
      "221/221 [==============================] - 72s 328ms/step - loss: 0.0067 - accuracy: 0.0757 - val_loss: 0.0104 - val_accuracy: 0.0000e+00\n"
     ]
    },
    {
     "data": {
      "text/plain": [
       "<keras.callbacks.History at 0x1cfc5dc70d0>"
      ]
     },
     "execution_count": 27,
     "metadata": {},
     "output_type": "execute_result"
    }
   ],
   "source": [
    "data_dim = 1\n",
    "\n",
    "model = Sequential()\n",
    "\n",
    "model.add(InputLayer(input_shape=(look_back, data_dim)))\n",
    "model.add(LSTM(64))\n",
    "model.add(Dense(8, 'relu'))\n",
    "\n",
    "early_stopping = EarlyStopping(patience=10)\n",
    "\n",
    "model.compile('adam', loss='mae', metrics=['accuracy'])\n",
    "\n",
    "model.fit_generator(train_gen, epochs=20, validation_data=valid_gen, callbacks=early_stopping)"
   ]
  },
  {
   "attachments": {},
   "cell_type": "markdown",
   "metadata": {},
   "source": [
    "# Test"
   ]
  },
  {
   "cell_type": "code",
   "execution_count": 32,
   "metadata": {},
   "outputs": [
    {
     "name": "stderr",
     "output_type": "stream",
     "text": [
      "C:\\Users\\Evgeny\\AppData\\Local\\Temp\\ipykernel_5284\\28153521.py:1: UserWarning: `Model.evaluate_generator` is deprecated and will be removed in a future version. Please use `Model.evaluate`, which supports generators.\n",
      "  loss, mae = model.evaluate_generator(test_gen, steps=len(test_gen))\n"
     ]
    }
   ],
   "source": [
    "loss, mae = model.evaluate_generator(test_gen, steps=len(test_gen))"
   ]
  },
  {
   "cell_type": "code",
   "execution_count": 37,
   "metadata": {},
   "outputs": [
    {
     "name": "stdout",
     "output_type": "stream",
     "text": [
      "Loss: 0.004962409846484661 \n",
      "Mean absolute error(mae): 0.0\n"
     ]
    }
   ],
   "source": [
    "print(f'Loss: {loss} \\nMean absolute error(mae): {mae}')"
   ]
  },
  {
   "cell_type": "code",
   "execution_count": 77,
   "metadata": {},
   "outputs": [
    {
     "name": "stderr",
     "output_type": "stream",
     "text": [
      "C:\\Users\\Evgeny\\AppData\\Local\\Temp\\ipykernel_5284\\1890124827.py:1: UserWarning: `Model.predict_generator` is deprecated and will be removed in a future version. Please use `Model.predict`, which supports generators.\n",
      "  y_pred = model.predict_generator(test_gen)\n"
     ]
    }
   ],
   "source": [
    "y_pred = model.predict_generator(test_gen)\n"
   ]
  },
  {
   "cell_type": "code",
   "execution_count": 79,
   "metadata": {},
   "outputs": [],
   "source": [
    "y_true = test_gen.targets[721:]"
   ]
  },
  {
   "cell_type": "code",
   "execution_count": 80,
   "metadata": {},
   "outputs": [
    {
     "data": {
      "text/plain": [
       "<matplotlib.legend.Legend at 0x1cfd0875c60>"
      ]
     },
     "execution_count": 80,
     "metadata": {},
     "output_type": "execute_result"
    },
    {
     "data": {
      "image/png": "[encoded data removed]",
      "text/plain": [
       "<Figure size 640x480 with 1 Axes>"
      ]
     },
     "metadata": {},
     "output_type": "display_data"
    }
   ],
   "source": [
    "plt.plot(y_true, label='Actual')\n",
    "plt.plot(y_pred, label='Predicted')\n",
    "plt.legend()"
   ]
  },
  {
   "attachments": {},
   "cell_type": "markdown",
   "metadata": {},
   "source": [
    "# Predict exchange rate in 1 hour"
   ]
  },
  {
   "cell_type": "code",
   "execution_count": 122,
   "metadata": {},
   "outputs": [],
   "source": [
    "model.save('./predict/saved_model.h5', save_format='h5')"
   ]
  }
 ],
 "metadata": {
  "kernelspec": {
   "display_name": ".venv",
   "language": "python",
   "name": "python3"
  },
  "language_info": {
   "codemirror_mode": {
    "name": "ipython",
    "version": 3
   },
   "file_extension": ".py",
   "mimetype": "text/x-python",
   "name": "python",
   "nbconvert_exporter": "python",
   "pygments_lexer": "ipython3",
   "version": "3.10.0"
  },
  "orig_nbformat": 4
 },
 "nbformat": 4,
 "nbformat_minor": 2
}
