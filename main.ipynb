{
 "cells": [
  {
   "cell_type": "code",
   "execution_count": 85,
   "metadata": {},
   "outputs": [],
   "source": [
    "import requests\n",
    "import json\n",
    "import csv\n",
    "import time\n",
    "\n",
    "import pandas as pd\n",
    "import numpy as np\n",
    "import matplotlib.pyplot as plt\n",
    "\n",
    "from sklearn.preprocessing import MinMaxScaler\n",
    "\n",
    "from tensorflow import config\n",
    "from keras.preprocessing.sequence import TimeseriesGenerator\n",
    "from keras.models import Sequential\n",
    "from keras.layers import LSTM, Dense, InputLayer\n",
    "from keras.callbacks import EarlyStopping"
   ]
  },
  {
   "cell_type": "code",
   "execution_count": 86,
   "metadata": {},
   "outputs": [
    {
     "data": {
      "text/plain": [
       "[LogicalDevice(name='/device:CPU:0', device_type='CPU'),\n",
       " LogicalDevice(name='/device:GPU:0', device_type='GPU')]"
      ]
     },
     "execution_count": 86,
     "metadata": {},
     "output_type": "execute_result"
    }
   ],
   "source": [
    "config.list_logical_devices()"
   ]
  },
  {
   "attachments": {},
   "cell_type": "markdown",
   "metadata": {},
   "source": [
    "# Get the data from Binance api"
   ]
  },
  {
   "attachments": {},
   "cell_type": "markdown",
   "metadata": {},
   "source": [
    "## Get"
   ]
  },
  {
   "cell_type": "code",
   "execution_count": 87,
   "metadata": {},
   "outputs": [],
   "source": [
    "# You can create 'api_key.txt' file with your api key inside it (it's already in '.gitignore')\n",
    "# or just replace 'api_key.txt' => 'your_api_key'\n",
    "api_key = open('api_key.txt', 'r').read()\n",
    "\n",
    "endpoint = 'https://api.binance.com/api/v3/klines'\n",
    "\n",
    "symbol =  'BTCUSDT'\n",
    "interval =  '1h'\n",
    "limit = 1000\n",
    "headers = {\n",
    "    'X-MBX-APIKEY': api_key\n",
    "}\n",
    "\n",
    "# Get current date, 4 years ago\n",
    "start_time = int((time.time() - 126230400) * 1000) # 126230400 seconds = 4 years\n",
    "end_time = int(time.time() * 1000)\n",
    "\n",
    "results = []\n",
    "\n",
    "# Loop through the data until there is no more left\n",
    "while True:\n",
    "    # Make the initial request with these parameters\n",
    "    params = {'symbol': symbol, 'interval': interval, 'startTime': start_time, 'endTime': end_time, 'limit': limit}\n",
    "    response = requests.get(endpoint, headers=headers, params=params)\n",
    "\n",
    "    # Check if there is any data left\n",
    "    if not response.json():\n",
    "        break\n",
    "\n",
    "    # Append the data to the results list\n",
    "    results.extend(response.json())\n",
    "\n",
    "    # Set the start time for the next request\n",
    "    start_time = int(results[-1][0]) + 1\n"
   ]
  },
  {
   "attachments": {},
   "cell_type": "markdown",
   "metadata": {},
   "source": [
    "## Define dataframe columns and create datafile"
   ]
  },
  {
   "cell_type": "code",
   "execution_count": 88,
   "metadata": {},
   "outputs": [],
   "source": [
    "columns = ['open_time', 'open_price', 'high_price', 'low_price',\n",
    "            'close_price', 'Volume', 'close_time', 'quote_asset_volume',\n",
    "            'number_of_trades', 'taker_buy_base_asset_volume', 'taker_buy_quote_asset_volume', 'ignore']\n",
    "\n",
    "df = pd.DataFrame(results, columns=columns)\n"
   ]
  },
  {
   "cell_type": "code",
   "execution_count": 89,
   "metadata": {},
   "outputs": [],
   "source": [
    "df = df[['open_time', 'open_price']]\n",
    "\n",
    "with open('data.csv', 'w') as file:\n",
    "    file.write(df.to_csv())"
   ]
  },
  {
   "cell_type": "code",
   "execution_count": 90,
   "metadata": {},
   "outputs": [
    {
     "data": {
      "text/html": [
       "<div>\n",
       "<style scoped>\n",
       "    .dataframe tbody tr th:only-of-type {\n",
       "        vertical-align: middle;\n",
       "    }\n",
       "\n",
       "    .dataframe tbody tr th {\n",
       "        vertical-align: top;\n",
       "    }\n",
       "\n",
       "    .dataframe thead th {\n",
       "        text-align: right;\n",
       "    }\n",
       "</style>\n",
       "<table border=\"1\" class=\"dataframe\">\n",
       "  <thead>\n",
       "    <tr style=\"text-align: right;\">\n",
       "      <th></th>\n",
       "      <th>open_time</th>\n",
       "      <th>open_price</th>\n",
       "    </tr>\n",
       "  </thead>\n",
       "  <tbody>\n",
       "    <tr>\n",
       "      <th>0</th>\n",
       "      <td>1555894800000</td>\n",
       "      <td>5256.92000000</td>\n",
       "    </tr>\n",
       "    <tr>\n",
       "      <th>1</th>\n",
       "      <td>1555898400000</td>\n",
       "      <td>5228.32000000</td>\n",
       "    </tr>\n",
       "    <tr>\n",
       "      <th>2</th>\n",
       "      <td>1555902000000</td>\n",
       "      <td>5224.50000000</td>\n",
       "    </tr>\n",
       "    <tr>\n",
       "      <th>3</th>\n",
       "      <td>1555905600000</td>\n",
       "      <td>5218.32000000</td>\n",
       "    </tr>\n",
       "    <tr>\n",
       "      <th>4</th>\n",
       "      <td>1555909200000</td>\n",
       "      <td>5237.26000000</td>\n",
       "    </tr>\n",
       "    <tr>\n",
       "      <th>...</th>\n",
       "      <td>...</td>\n",
       "      <td>...</td>\n",
       "    </tr>\n",
       "    <tr>\n",
       "      <th>35005</th>\n",
       "      <td>1682107200000</td>\n",
       "      <td>27279.90000000</td>\n",
       "    </tr>\n",
       "    <tr>\n",
       "      <th>35006</th>\n",
       "      <td>1682110800000</td>\n",
       "      <td>27270.87000000</td>\n",
       "    </tr>\n",
       "    <tr>\n",
       "      <th>35007</th>\n",
       "      <td>1682114400000</td>\n",
       "      <td>27279.99000000</td>\n",
       "    </tr>\n",
       "    <tr>\n",
       "      <th>35008</th>\n",
       "      <td>1682118000000</td>\n",
       "      <td>27266.07000000</td>\n",
       "    </tr>\n",
       "    <tr>\n",
       "      <th>35009</th>\n",
       "      <td>1682121600000</td>\n",
       "      <td>27262.84000000</td>\n",
       "    </tr>\n",
       "  </tbody>\n",
       "</table>\n",
       "<p>35010 rows × 2 columns</p>\n",
       "</div>"
      ],
      "text/plain": [
       "           open_time      open_price\n",
       "0      1555894800000   5256.92000000\n",
       "1      1555898400000   5228.32000000\n",
       "2      1555902000000   5224.50000000\n",
       "3      1555905600000   5218.32000000\n",
       "4      1555909200000   5237.26000000\n",
       "...              ...             ...\n",
       "35005  1682107200000  27279.90000000\n",
       "35006  1682110800000  27270.87000000\n",
       "35007  1682114400000  27279.99000000\n",
       "35008  1682118000000  27266.07000000\n",
       "35009  1682121600000  27262.84000000\n",
       "\n",
       "[35010 rows x 2 columns]"
      ]
     },
     "execution_count": 90,
     "metadata": {},
     "output_type": "execute_result"
    }
   ],
   "source": [
    "df"
   ]
  },
  {
   "attachments": {},
   "cell_type": "markdown",
   "metadata": {},
   "source": [
    "# Preparing data"
   ]
  },
  {
   "cell_type": "code",
   "execution_count": 91,
   "metadata": {},
   "outputs": [
    {
     "name": "stdout",
     "output_type": "stream",
     "text": [
      "<class 'pandas.core.frame.DataFrame'>\n",
      "RangeIndex: 35010 entries, 0 to 35009\n",
      "Data columns (total 2 columns):\n",
      " #   Column      Non-Null Count  Dtype \n",
      "---  ------      --------------  ----- \n",
      " 0   open_time   35010 non-null  int64 \n",
      " 1   open_price  35010 non-null  object\n",
      "dtypes: int64(1), object(1)\n",
      "memory usage: 547.2+ KB\n"
     ]
    }
   ],
   "source": [
    "df.info()"
   ]
  },
  {
   "attachments": {},
   "cell_type": "markdown",
   "metadata": {},
   "source": [
    "### Split df to dates and prices"
   ]
  },
  {
   "cell_type": "code",
   "execution_count": 92,
   "metadata": {},
   "outputs": [],
   "source": [
    "df_dates = df['open_time']\n",
    "df_prices = df['open_price']"
   ]
  },
  {
   "cell_type": "code",
   "execution_count": 93,
   "metadata": {},
   "outputs": [
    {
     "data": {
      "text/plain": [
       "0         5256.92000000\n",
       "1         5228.32000000\n",
       "2         5224.50000000\n",
       "3         5218.32000000\n",
       "4         5237.26000000\n",
       "              ...      \n",
       "35005    27279.90000000\n",
       "35006    27270.87000000\n",
       "35007    27279.99000000\n",
       "35008    27266.07000000\n",
       "35009    27262.84000000\n",
       "Name: open_price, Length: 35010, dtype: object"
      ]
     },
     "execution_count": 93,
     "metadata": {},
     "output_type": "execute_result"
    }
   ],
   "source": [
    "df_prices"
   ]
  },
  {
   "attachments": {},
   "cell_type": "markdown",
   "metadata": {},
   "source": [
    "### Change df_prices type from object to float"
   ]
  },
  {
   "cell_type": "code",
   "execution_count": 94,
   "metadata": {},
   "outputs": [],
   "source": [
    "df_prices = df_prices.astype(float)"
   ]
  },
  {
   "cell_type": "code",
   "execution_count": 95,
   "metadata": {},
   "outputs": [
    {
     "data": {
      "text/plain": [
       "0         5256.92\n",
       "1         5228.32\n",
       "2         5224.50\n",
       "3         5218.32\n",
       "4         5237.26\n",
       "           ...   \n",
       "35005    27279.90\n",
       "35006    27270.87\n",
       "35007    27279.99\n",
       "35008    27266.07\n",
       "35009    27262.84\n",
       "Name: open_price, Length: 35010, dtype: float64"
      ]
     },
     "execution_count": 95,
     "metadata": {},
     "output_type": "execute_result"
    }
   ],
   "source": [
    "df_prices"
   ]
  },
  {
   "attachments": {},
   "cell_type": "markdown",
   "metadata": {},
   "source": [
    "## Split into training, validation and test"
   ]
  },
  {
   "cell_type": "code",
   "execution_count": 96,
   "metadata": {},
   "outputs": [],
   "source": [
    "train_valid_border = 0.65\n",
    "valid_test_border = 0.75\n",
    "\n",
    "train, valid, test = np.split(df_prices, [int(len(df_prices) * train_valid_border), int(len(df_prices) * valid_test_border)])"
   ]
  },
  {
   "cell_type": "code",
   "execution_count": 97,
   "metadata": {},
   "outputs": [
    {
     "data": {
      "text/plain": [
       "(22756, 3501, 8753)"
      ]
     },
     "execution_count": 97,
     "metadata": {},
     "output_type": "execute_result"
    }
   ],
   "source": [
    "len(train), len(valid), len(test)"
   ]
  },
  {
   "attachments": {},
   "cell_type": "markdown",
   "metadata": {},
   "source": [
    "# Scale"
   ]
  },
  {
   "cell_type": "code",
   "execution_count": 99,
   "metadata": {},
   "outputs": [],
   "source": [
    "scaler = MinMaxScaler()\n",
    "\n",
    "train_norm = scaler.fit_transform(train.values.reshape(-1, 1))\n",
    "valid_norm = scaler.fit_transform(valid.values.reshape(-1, 1))\n",
    "test_norm = scaler.fit_transform(test.values.reshape(-1, 1))"
   ]
  },
  {
   "attachments": {},
   "cell_type": "markdown",
   "metadata": {},
   "source": [
    "## Plot"
   ]
  },
  {
   "cell_type": "code",
   "execution_count": 100,
   "metadata": {},
   "outputs": [
    {
     "data": {
      "text/plain": [
       "Text(0, 0.5, 'Exchange rate BTC to USDT')"
      ]
     },
     "execution_count": 100,
     "metadata": {},
     "output_type": "execute_result"
    },
    {
     "data": {
      "image/png": "[encoded data removed]",
      "text/plain": [
       "<Figure size 640x480 with 1 Axes>"
      ]
     },
     "metadata": {},
     "output_type": "display_data"
    }
   ],
   "source": [
    "plt.plot(df_dates[:int(len(df_prices) * train_valid_border)], train_norm)\n",
    "plt.title('train')\n",
    "plt.xlabel('Date from 1 year ago to now')\n",
    "plt.ylabel('Exchange rate BTC to USDT')"
   ]
  },
  {
   "cell_type": "code",
   "execution_count": 105,
   "metadata": {},
   "outputs": [
    {
     "data": {
      "text/plain": [
       "Text(0, 0.5, 'Exchange rate BTC to USDT')"
      ]
     },
     "execution_count": 105,
     "metadata": {},
     "output_type": "execute_result"
    },
    {
     "data": {
      "image/png": "[encoded data removed]",
      "text/plain": [
       "<Figure size 640x480 with 1 Axes>"
      ]
     },
     "metadata": {},
     "output_type": "display_data"
    }
   ],
   "source": [
    "plt.plot(df_dates[int(len(df_prices) * train_valid_border):int(len(df_prices) * valid_test_border)], valid_norm)\n",
    "plt.title('valid')\n",
    "plt.xlabel('Date from 1 year ago to now')\n",
    "plt.ylabel('Exchange rate BTC to USDT')"
   ]
  },
  {
   "cell_type": "code",
   "execution_count": 102,
   "metadata": {},
   "outputs": [
    {
     "data": {
      "text/plain": [
       "Text(0, 0.5, 'Exchange rate BTC to USDT')"
      ]
     },
     "execution_count": 102,
     "metadata": {},
     "output_type": "execute_result"
    },
    {
     "data": {
      "image/png": "[encoded data removed]",
      "text/plain": [
       "<Figure size 640x480 with 1 Axes>"
      ]
     },
     "metadata": {},
     "output_type": "display_data"
    }
   ],
   "source": [
    "plt.plot(df_dates[int(len(df_prices) * valid_test_border):], test_norm)\n",
    "plt.title('test')\n",
    "plt.xlabel('Date from 1 year ago to now')\n",
    "plt.ylabel('Exchange rate BTC to USDT')"
   ]
  },
  {
   "attachments": {},
   "cell_type": "markdown",
   "metadata": {},
   "source": [
    "# Arrays => X, y\n"
   ]
  },
  {
   "cell_type": "code",
   "execution_count": 113,
   "metadata": {},
   "outputs": [
    {
     "name": "stdout",
     "output_type": "stream",
     "text": [
      "Number of batches in train_gen: 221\n"
     ]
    }
   ],
   "source": [
    "look_back = 720 # x will be last 720 hours for each y\n",
    "\n",
    "train_gen = TimeseriesGenerator(train_norm, train_norm, length=look_back, batch_size=100)\n",
    "valid_gen = TimeseriesGenerator(valid_norm, valid_norm, length=look_back, batch_size=1)\n",
    "test_gen = TimeseriesGenerator(test_norm, test_norm, length=look_back, batch_size=1)\n",
    "\n",
    "print('Number of batches in train_gen:', train_gen.__len__())"
   ]
  },
  {
   "attachments": {},
   "cell_type": "markdown",
   "metadata": {},
   "source": [
    "### X for first batch in train_gen (as pd dataframe)"
   ]
  },
  {
   "cell_type": "code",
   "execution_count": 114,
   "metadata": {},
   "outputs": [
    {
     "data": {
      "text/html": [
       "<div>\n",
       "<style scoped>\n",
       "    .dataframe tbody tr th:only-of-type {\n",
       "        vertical-align: middle;\n",
       "    }\n",
       "\n",
       "    .dataframe tbody tr th {\n",
       "        vertical-align: top;\n",
       "    }\n",
       "\n",
       "    .dataframe thead th {\n",
       "        text-align: right;\n",
       "    }\n",
       "</style>\n",
       "<table border=\"1\" class=\"dataframe\">\n",
       "  <thead>\n",
       "    <tr style=\"text-align: right;\">\n",
       "      <th></th>\n",
       "      <th>0</th>\n",
       "      <th>1</th>\n",
       "      <th>2</th>\n",
       "      <th>3</th>\n",
       "      <th>4</th>\n",
       "      <th>5</th>\n",
       "      <th>6</th>\n",
       "      <th>7</th>\n",
       "      <th>8</th>\n",
       "      <th>9</th>\n",
       "      <th>...</th>\n",
       "      <th>710</th>\n",
       "      <th>711</th>\n",
       "      <th>712</th>\n",
       "      <th>713</th>\n",
       "      <th>714</th>\n",
       "      <th>715</th>\n",
       "      <th>716</th>\n",
       "      <th>717</th>\n",
       "      <th>718</th>\n",
       "      <th>719</th>\n",
       "    </tr>\n",
       "  </thead>\n",
       "  <tbody>\n",
       "    <tr>\n",
       "      <th>0</th>\n",
       "      <td>0.017452</td>\n",
       "      <td>0.017008</td>\n",
       "      <td>0.016949</td>\n",
       "      <td>0.016853</td>\n",
       "      <td>0.017147</td>\n",
       "      <td>0.017108</td>\n",
       "      <td>0.017310</td>\n",
       "      <td>0.017246</td>\n",
       "      <td>0.017452</td>\n",
       "      <td>0.017598</td>\n",
       "      <td>...</td>\n",
       "      <td>0.059588</td>\n",
       "      <td>0.058615</td>\n",
       "      <td>0.058835</td>\n",
       "      <td>0.058355</td>\n",
       "      <td>0.058636</td>\n",
       "      <td>0.058738</td>\n",
       "      <td>0.058536</td>\n",
       "      <td>0.058135</td>\n",
       "      <td>0.058470</td>\n",
       "      <td>0.057772</td>\n",
       "    </tr>\n",
       "    <tr>\n",
       "      <th>1</th>\n",
       "      <td>0.017008</td>\n",
       "      <td>0.016949</td>\n",
       "      <td>0.016853</td>\n",
       "      <td>0.017147</td>\n",
       "      <td>0.017108</td>\n",
       "      <td>0.017310</td>\n",
       "      <td>0.017246</td>\n",
       "      <td>0.017452</td>\n",
       "      <td>0.017598</td>\n",
       "      <td>0.017856</td>\n",
       "      <td>...</td>\n",
       "      <td>0.058615</td>\n",
       "      <td>0.058835</td>\n",
       "      <td>0.058355</td>\n",
       "      <td>0.058636</td>\n",
       "      <td>0.058738</td>\n",
       "      <td>0.058536</td>\n",
       "      <td>0.058135</td>\n",
       "      <td>0.058470</td>\n",
       "      <td>0.057772</td>\n",
       "      <td>0.057853</td>\n",
       "    </tr>\n",
       "    <tr>\n",
       "      <th>2</th>\n",
       "      <td>0.016949</td>\n",
       "      <td>0.016853</td>\n",
       "      <td>0.017147</td>\n",
       "      <td>0.017108</td>\n",
       "      <td>0.017310</td>\n",
       "      <td>0.017246</td>\n",
       "      <td>0.017452</td>\n",
       "      <td>0.017598</td>\n",
       "      <td>0.017856</td>\n",
       "      <td>0.017732</td>\n",
       "      <td>...</td>\n",
       "      <td>0.058835</td>\n",
       "      <td>0.058355</td>\n",
       "      <td>0.058636</td>\n",
       "      <td>0.058738</td>\n",
       "      <td>0.058536</td>\n",
       "      <td>0.058135</td>\n",
       "      <td>0.058470</td>\n",
       "      <td>0.057772</td>\n",
       "      <td>0.057853</td>\n",
       "      <td>0.056922</td>\n",
       "    </tr>\n",
       "    <tr>\n",
       "      <th>3</th>\n",
       "      <td>0.016853</td>\n",
       "      <td>0.017147</td>\n",
       "      <td>0.017108</td>\n",
       "      <td>0.017310</td>\n",
       "      <td>0.017246</td>\n",
       "      <td>0.017452</td>\n",
       "      <td>0.017598</td>\n",
       "      <td>0.017856</td>\n",
       "      <td>0.017732</td>\n",
       "      <td>0.017773</td>\n",
       "      <td>...</td>\n",
       "      <td>0.058355</td>\n",
       "      <td>0.058636</td>\n",
       "      <td>0.058738</td>\n",
       "      <td>0.058536</td>\n",
       "      <td>0.058135</td>\n",
       "      <td>0.058470</td>\n",
       "      <td>0.057772</td>\n",
       "      <td>0.057853</td>\n",
       "      <td>0.056922</td>\n",
       "      <td>0.056453</td>\n",
       "    </tr>\n",
       "    <tr>\n",
       "      <th>4</th>\n",
       "      <td>0.017147</td>\n",
       "      <td>0.017108</td>\n",
       "      <td>0.017310</td>\n",
       "      <td>0.017246</td>\n",
       "      <td>0.017452</td>\n",
       "      <td>0.017598</td>\n",
       "      <td>0.017856</td>\n",
       "      <td>0.017732</td>\n",
       "      <td>0.017773</td>\n",
       "      <td>0.017616</td>\n",
       "      <td>...</td>\n",
       "      <td>0.058636</td>\n",
       "      <td>0.058738</td>\n",
       "      <td>0.058536</td>\n",
       "      <td>0.058135</td>\n",
       "      <td>0.058470</td>\n",
       "      <td>0.057772</td>\n",
       "      <td>0.057853</td>\n",
       "      <td>0.056922</td>\n",
       "      <td>0.056453</td>\n",
       "      <td>0.057612</td>\n",
       "    </tr>\n",
       "    <tr>\n",
       "      <th>...</th>\n",
       "      <td>...</td>\n",
       "      <td>...</td>\n",
       "      <td>...</td>\n",
       "      <td>...</td>\n",
       "      <td>...</td>\n",
       "      <td>...</td>\n",
       "      <td>...</td>\n",
       "      <td>...</td>\n",
       "      <td>...</td>\n",
       "      <td>...</td>\n",
       "      <td>...</td>\n",
       "      <td>...</td>\n",
       "      <td>...</td>\n",
       "      <td>...</td>\n",
       "      <td>...</td>\n",
       "      <td>...</td>\n",
       "      <td>...</td>\n",
       "      <td>...</td>\n",
       "      <td>...</td>\n",
       "      <td>...</td>\n",
       "      <td>...</td>\n",
       "    </tr>\n",
       "    <tr>\n",
       "      <th>95</th>\n",
       "      <td>0.016886</td>\n",
       "      <td>0.017625</td>\n",
       "      <td>0.018275</td>\n",
       "      <td>0.019502</td>\n",
       "      <td>0.018784</td>\n",
       "      <td>0.018405</td>\n",
       "      <td>0.018505</td>\n",
       "      <td>0.018198</td>\n",
       "      <td>0.017998</td>\n",
       "      <td>0.018139</td>\n",
       "      <td>...</td>\n",
       "      <td>0.060334</td>\n",
       "      <td>0.060299</td>\n",
       "      <td>0.060037</td>\n",
       "      <td>0.059675</td>\n",
       "      <td>0.059432</td>\n",
       "      <td>0.059836</td>\n",
       "      <td>0.059459</td>\n",
       "      <td>0.059509</td>\n",
       "      <td>0.059509</td>\n",
       "      <td>0.059701</td>\n",
       "    </tr>\n",
       "    <tr>\n",
       "      <th>96</th>\n",
       "      <td>0.017625</td>\n",
       "      <td>0.018275</td>\n",
       "      <td>0.019502</td>\n",
       "      <td>0.018784</td>\n",
       "      <td>0.018405</td>\n",
       "      <td>0.018505</td>\n",
       "      <td>0.018198</td>\n",
       "      <td>0.017998</td>\n",
       "      <td>0.018139</td>\n",
       "      <td>0.018341</td>\n",
       "      <td>...</td>\n",
       "      <td>0.060299</td>\n",
       "      <td>0.060037</td>\n",
       "      <td>0.059675</td>\n",
       "      <td>0.059432</td>\n",
       "      <td>0.059836</td>\n",
       "      <td>0.059459</td>\n",
       "      <td>0.059509</td>\n",
       "      <td>0.059509</td>\n",
       "      <td>0.059701</td>\n",
       "      <td>0.059412</td>\n",
       "    </tr>\n",
       "    <tr>\n",
       "      <th>97</th>\n",
       "      <td>0.018275</td>\n",
       "      <td>0.019502</td>\n",
       "      <td>0.018784</td>\n",
       "      <td>0.018405</td>\n",
       "      <td>0.018505</td>\n",
       "      <td>0.018198</td>\n",
       "      <td>0.017998</td>\n",
       "      <td>0.018139</td>\n",
       "      <td>0.018341</td>\n",
       "      <td>0.018349</td>\n",
       "      <td>...</td>\n",
       "      <td>0.060037</td>\n",
       "      <td>0.059675</td>\n",
       "      <td>0.059432</td>\n",
       "      <td>0.059836</td>\n",
       "      <td>0.059459</td>\n",
       "      <td>0.059509</td>\n",
       "      <td>0.059509</td>\n",
       "      <td>0.059701</td>\n",
       "      <td>0.059412</td>\n",
       "      <td>0.059293</td>\n",
       "    </tr>\n",
       "    <tr>\n",
       "      <th>98</th>\n",
       "      <td>0.019502</td>\n",
       "      <td>0.018784</td>\n",
       "      <td>0.018405</td>\n",
       "      <td>0.018505</td>\n",
       "      <td>0.018198</td>\n",
       "      <td>0.017998</td>\n",
       "      <td>0.018139</td>\n",
       "      <td>0.018341</td>\n",
       "      <td>0.018349</td>\n",
       "      <td>0.018636</td>\n",
       "      <td>...</td>\n",
       "      <td>0.059675</td>\n",
       "      <td>0.059432</td>\n",
       "      <td>0.059836</td>\n",
       "      <td>0.059459</td>\n",
       "      <td>0.059509</td>\n",
       "      <td>0.059509</td>\n",
       "      <td>0.059701</td>\n",
       "      <td>0.059412</td>\n",
       "      <td>0.059293</td>\n",
       "      <td>0.058554</td>\n",
       "    </tr>\n",
       "    <tr>\n",
       "      <th>99</th>\n",
       "      <td>0.018784</td>\n",
       "      <td>0.018405</td>\n",
       "      <td>0.018505</td>\n",
       "      <td>0.018198</td>\n",
       "      <td>0.017998</td>\n",
       "      <td>0.018139</td>\n",
       "      <td>0.018341</td>\n",
       "      <td>0.018349</td>\n",
       "      <td>0.018636</td>\n",
       "      <td>0.018594</td>\n",
       "      <td>...</td>\n",
       "      <td>0.059432</td>\n",
       "      <td>0.059836</td>\n",
       "      <td>0.059459</td>\n",
       "      <td>0.059509</td>\n",
       "      <td>0.059509</td>\n",
       "      <td>0.059701</td>\n",
       "      <td>0.059412</td>\n",
       "      <td>0.059293</td>\n",
       "      <td>0.058554</td>\n",
       "      <td>0.058868</td>\n",
       "    </tr>\n",
       "  </tbody>\n",
       "</table>\n",
       "<p>100 rows × 720 columns</p>\n",
       "</div>"
      ],
      "text/plain": [
       "         0         1         2         3         4         5         6     \n",
       "0   0.017452  0.017008  0.016949  0.016853  0.017147  0.017108  0.017310  \\\n",
       "1   0.017008  0.016949  0.016853  0.017147  0.017108  0.017310  0.017246   \n",
       "2   0.016949  0.016853  0.017147  0.017108  0.017310  0.017246  0.017452   \n",
       "3   0.016853  0.017147  0.017108  0.017310  0.017246  0.017452  0.017598   \n",
       "4   0.017147  0.017108  0.017310  0.017246  0.017452  0.017598  0.017856   \n",
       "..       ...       ...       ...       ...       ...       ...       ...   \n",
       "95  0.016886  0.017625  0.018275  0.019502  0.018784  0.018405  0.018505   \n",
       "96  0.017625  0.018275  0.019502  0.018784  0.018405  0.018505  0.018198   \n",
       "97  0.018275  0.019502  0.018784  0.018405  0.018505  0.018198  0.017998   \n",
       "98  0.019502  0.018784  0.018405  0.018505  0.018198  0.017998  0.018139   \n",
       "99  0.018784  0.018405  0.018505  0.018198  0.017998  0.018139  0.018341   \n",
       "\n",
       "         7         8         9    ...       710       711       712       713   \n",
       "0   0.017246  0.017452  0.017598  ...  0.059588  0.058615  0.058835  0.058355  \\\n",
       "1   0.017452  0.017598  0.017856  ...  0.058615  0.058835  0.058355  0.058636   \n",
       "2   0.017598  0.017856  0.017732  ...  0.058835  0.058355  0.058636  0.058738   \n",
       "3   0.017856  0.017732  0.017773  ...  0.058355  0.058636  0.058738  0.058536   \n",
       "4   0.017732  0.017773  0.017616  ...  0.058636  0.058738  0.058536  0.058135   \n",
       "..       ...       ...       ...  ...       ...       ...       ...       ...   \n",
       "95  0.018198  0.017998  0.018139  ...  0.060334  0.060299  0.060037  0.059675   \n",
       "96  0.017998  0.018139  0.018341  ...  0.060299  0.060037  0.059675  0.059432   \n",
       "97  0.018139  0.018341  0.018349  ...  0.060037  0.059675  0.059432  0.059836   \n",
       "98  0.018341  0.018349  0.018636  ...  0.059675  0.059432  0.059836  0.059459   \n",
       "99  0.018349  0.018636  0.018594  ...  0.059432  0.059836  0.059459  0.059509   \n",
       "\n",
       "         714       715       716       717       718       719  \n",
       "0   0.058636  0.058738  0.058536  0.058135  0.058470  0.057772  \n",
       "1   0.058738  0.058536  0.058135  0.058470  0.057772  0.057853  \n",
       "2   0.058536  0.058135  0.058470  0.057772  0.057853  0.056922  \n",
       "3   0.058135  0.058470  0.057772  0.057853  0.056922  0.056453  \n",
       "4   0.058470  0.057772  0.057853  0.056922  0.056453  0.057612  \n",
       "..       ...       ...       ...       ...       ...       ...  \n",
       "95  0.059432  0.059836  0.059459  0.059509  0.059509  0.059701  \n",
       "96  0.059836  0.059459  0.059509  0.059509  0.059701  0.059412  \n",
       "97  0.059459  0.059509  0.059509  0.059701  0.059412  0.059293  \n",
       "98  0.059509  0.059509  0.059701  0.059412  0.059293  0.058554  \n",
       "99  0.059509  0.059701  0.059412  0.059293  0.058554  0.058868  \n",
       "\n",
       "[100 rows x 720 columns]"
      ]
     },
     "execution_count": 114,
     "metadata": {},
     "output_type": "execute_result"
    }
   ],
   "source": [
    "pd.DataFrame(train_gen.__getitem__(0)[0][...,0])"
   ]
  },
  {
   "attachments": {},
   "cell_type": "markdown",
   "metadata": {},
   "source": [
    "### y for first batch in train_gen (as pd dataframe)"
   ]
  },
  {
   "cell_type": "code",
   "execution_count": 116,
   "metadata": {},
   "outputs": [
    {
     "data": {
      "text/html": [
       "<div>\n",
       "<style scoped>\n",
       "    .dataframe tbody tr th:only-of-type {\n",
       "        vertical-align: middle;\n",
       "    }\n",
       "\n",
       "    .dataframe tbody tr th {\n",
       "        vertical-align: top;\n",
       "    }\n",
       "\n",
       "    .dataframe thead th {\n",
       "        text-align: right;\n",
       "    }\n",
       "</style>\n",
       "<table border=\"1\" class=\"dataframe\">\n",
       "  <thead>\n",
       "    <tr style=\"text-align: right;\">\n",
       "      <th></th>\n",
       "      <th>0</th>\n",
       "    </tr>\n",
       "  </thead>\n",
       "  <tbody>\n",
       "    <tr>\n",
       "      <th>0</th>\n",
       "      <td>0.057853</td>\n",
       "    </tr>\n",
       "    <tr>\n",
       "      <th>1</th>\n",
       "      <td>0.056922</td>\n",
       "    </tr>\n",
       "    <tr>\n",
       "      <th>2</th>\n",
       "      <td>0.056453</td>\n",
       "    </tr>\n",
       "    <tr>\n",
       "      <th>3</th>\n",
       "      <td>0.057612</td>\n",
       "    </tr>\n",
       "    <tr>\n",
       "      <th>4</th>\n",
       "      <td>0.057783</td>\n",
       "    </tr>\n",
       "    <tr>\n",
       "      <th>...</th>\n",
       "      <td>...</td>\n",
       "    </tr>\n",
       "    <tr>\n",
       "      <th>95</th>\n",
       "      <td>0.059412</td>\n",
       "    </tr>\n",
       "    <tr>\n",
       "      <th>96</th>\n",
       "      <td>0.059293</td>\n",
       "    </tr>\n",
       "    <tr>\n",
       "      <th>97</th>\n",
       "      <td>0.058554</td>\n",
       "    </tr>\n",
       "    <tr>\n",
       "      <th>98</th>\n",
       "      <td>0.058868</td>\n",
       "    </tr>\n",
       "    <tr>\n",
       "      <th>99</th>\n",
       "      <td>0.059506</td>\n",
       "    </tr>\n",
       "  </tbody>\n",
       "</table>\n",
       "<p>100 rows × 1 columns</p>\n",
       "</div>"
      ],
      "text/plain": [
       "           0\n",
       "0   0.057853\n",
       "1   0.056922\n",
       "2   0.056453\n",
       "3   0.057612\n",
       "4   0.057783\n",
       "..       ...\n",
       "95  0.059412\n",
       "96  0.059293\n",
       "97  0.058554\n",
       "98  0.058868\n",
       "99  0.059506\n",
       "\n",
       "[100 rows x 1 columns]"
      ]
     },
     "execution_count": 116,
     "metadata": {},
     "output_type": "execute_result"
    }
   ],
   "source": [
    "pd.DataFrame(train_gen.__getitem__(0)[1])"
   ]
  },
  {
   "attachments": {},
   "cell_type": "markdown",
   "metadata": {},
   "source": [
    "# Training"
   ]
  },
  {
   "cell_type": "code",
   "execution_count": 118,
   "metadata": {},
   "outputs": [
    {
     "name": "stdout",
     "output_type": "stream",
     "text": [
      "Epoch 1/10\n"
     ]
    },
    {
     "name": "stderr",
     "output_type": "stream",
     "text": [
      "C:\\Users\\Evgeny\\AppData\\Local\\Temp\\ipykernel_7464\\807885482.py:13: UserWarning: `Model.fit_generator` is deprecated and will be removed in a future version. Please use `Model.fit`, which supports generators.\n",
      "  model.fit_generator(train_gen, epochs=10, validation_data=valid_gen, callbacks=early_stopping)\n"
     ]
    },
    {
     "name": "stdout",
     "output_type": "stream",
     "text": [
      "221/221 [==============================] - 77s 341ms/step - loss: 0.0626 - accuracy: 0.2075 - val_loss: 0.0191 - val_accuracy: 0.0126\n",
      "Epoch 2/10\n",
      "221/221 [==============================] - 72s 326ms/step - loss: 0.0167 - accuracy: 0.1612 - val_loss: 0.0390 - val_accuracy: 0.0791\n",
      "Epoch 3/10\n",
      "221/221 [==============================] - 73s 331ms/step - loss: 0.0133 - accuracy: 0.3033 - val_loss: 0.0178 - val_accuracy: 0.0011\n",
      "Epoch 4/10\n",
      "221/221 [==============================] - 72s 326ms/step - loss: 0.0106 - accuracy: 0.1746 - val_loss: 0.0172 - val_accuracy: 0.0500\n",
      "Epoch 5/10\n",
      "221/221 [==============================] - 72s 327ms/step - loss: 0.0089 - accuracy: 0.1896 - val_loss: 0.0163 - val_accuracy: 7.1917e-04\n",
      "Epoch 6/10\n",
      "221/221 [==============================] - 72s 327ms/step - loss: 0.0071 - accuracy: 0.2350 - val_loss: 0.0154 - val_accuracy: 0.1093\n",
      "Epoch 7/10\n",
      "221/221 [==============================] - 72s 327ms/step - loss: 0.0083 - accuracy: 0.2707 - val_loss: 0.0146 - val_accuracy: 0.0421\n",
      "Epoch 8/10\n",
      "221/221 [==============================] - 72s 327ms/step - loss: 0.0115 - accuracy: 0.2767 - val_loss: 0.0201 - val_accuracy: 0.1172\n",
      "Epoch 9/10\n",
      "221/221 [==============================] - 74s 334ms/step - loss: 0.0079 - accuracy: 0.1232 - val_loss: 0.0136 - val_accuracy: 0.0169\n",
      "Epoch 10/10\n",
      "221/221 [==============================] - 73s 331ms/step - loss: 0.0092 - accuracy: 0.2318 - val_loss: 0.0134 - val_accuracy: 0.0748\n"
     ]
    },
    {
     "data": {
      "text/plain": [
       "<keras.callbacks.History at 0x1a3506184c0>"
      ]
     },
     "execution_count": 118,
     "metadata": {},
     "output_type": "execute_result"
    }
   ],
   "source": [
    "data_dim = 1\n",
    "\n",
    "model = Sequential()\n",
    "\n",
    "model.add(InputLayer(input_shape=(look_back, data_dim)))\n",
    "model.add(LSTM(64))\n",
    "model.add(Dense(8, 'relu'))\n",
    "\n",
    "early_stopping = EarlyStopping(patience=10)\n",
    "\n",
    "model.compile('adam', loss='mae', metrics=['accuracy'])\n",
    "\n",
    "model.fit_generator(train_gen, epochs=10, validation_data=valid_gen, callbacks=early_stopping)"
   ]
  },
  {
   "attachments": {},
   "cell_type": "markdown",
   "metadata": {},
   "source": [
    "# 123456"
   ]
  }
 ],
 "metadata": {
  "kernelspec": {
   "display_name": ".venv",
   "language": "python",
   "name": "python3"
  },
  "language_info": {
   "codemirror_mode": {
    "name": "ipython",
    "version": 3
   },
   "file_extension": ".py",
   "mimetype": "text/x-python",
   "name": "python",
   "nbconvert_exporter": "python",
   "pygments_lexer": "ipython3",
   "version": "3.10.0"
  },
  "orig_nbformat": 4
 },
 "nbformat": 4,
 "nbformat_minor": 2
}
