{
 "cells": [
  {
   "cell_type": "code",
   "execution_count": 1,
   "metadata": {},
   "outputs": [],
   "source": [
    "import requests\n",
    "import json\n",
    "import csv\n",
    "import time\n",
    "\n",
    "import pandas as pd\n",
    "import numpy as np\n",
    "import matplotlib.pyplot as plt\n",
    "\n",
    "from sklearn.preprocessing import MinMaxScaler\n",
    "from sklearn.metrics import mean_absolute_error\n",
    "\n",
    "from tensorflow import config\n",
    "from keras.preprocessing.sequence import TimeseriesGenerator\n",
    "from keras.models import Sequential\n",
    "from keras.layers import LSTM, Dense, InputLayer\n",
    "from keras.callbacks import EarlyStopping"
   ]
  },
  {
   "cell_type": "code",
   "execution_count": 2,
   "metadata": {},
   "outputs": [
    {
     "data": {
      "text/plain": [
       "[LogicalDevice(name='/device:CPU:0', device_type='CPU'),\n",
       " LogicalDevice(name='/device:GPU:0', device_type='GPU')]"
      ]
     },
     "execution_count": 2,
     "metadata": {},
     "output_type": "execute_result"
    }
   ],
   "source": [
    "config.list_logical_devices()"
   ]
  },
  {
   "attachments": {},
   "cell_type": "markdown",
   "metadata": {},
   "source": [
    "# Get the data from Binance api"
   ]
  },
  {
   "attachments": {},
   "cell_type": "markdown",
   "metadata": {},
   "source": [
    "## Get"
   ]
  },
  {
   "cell_type": "code",
   "execution_count": 3,
   "metadata": {},
   "outputs": [],
   "source": [
    "# You can create 'api_key.txt' file with your api key inside it (it's already in '.gitignore')\n",
    "# or just replace 'api_key.txt' => '{your_api_key}'\n",
    "api_key = open('api_key.txt', 'r').read()\n",
    "\n",
    "url = 'https://api.binance.com/api/v3/klines'\n",
    "\n",
    "symbol =  'BTCUSDT'\n",
    "interval =  '1h'\n",
    "limit = 1000\n",
    "headers = {\n",
    "    'X-MBX-APIKEY': api_key\n",
    "}\n",
    "\n",
    "# Get current date, 4 years ago\n",
    "start_time = int((time.time() - 126230400) * 1000) # 126230400 seconds = 4 years\n",
    "end_time = int(time.time() * 1000)\n",
    "\n",
    "results = []\n",
    "\n",
    "# Loop through the data until there is no more left\n",
    "while True:\n",
    "    # Initial request\n",
    "    params = {\n",
    "        'symbol': symbol, \n",
    "        'interval': interval, \n",
    "        'startTime': start_time, \n",
    "        'endTime': end_time, \n",
    "        'limit': limit\n",
    "    }\n",
    "    response = requests.get(url, headers=headers, params=params)\n",
    "\n",
    "    # Check if there is any data left\n",
    "    if not response.json():\n",
    "        break\n",
    "\n",
    "    # Add the data to results\n",
    "    results.extend(response.json())\n",
    "\n",
    "    # Set the start time for the next request\n",
    "    start_time = int(results[-1][0]) + 1\n"
   ]
  },
  {
   "attachments": {},
   "cell_type": "markdown",
   "metadata": {},
   "source": [
    "## Define dataframe columns and create datafile"
   ]
  },
  {
   "cell_type": "code",
   "execution_count": 4,
   "metadata": {},
   "outputs": [],
   "source": [
    "columns = ['open_time', 'open_price', 'high_price', 'low_price',\n",
    "            'close_price', 'Volume', 'close_time', 'quote_asset_volume',\n",
    "            'number_of_trades', 'taker_buy_base_asset_volume', 'taker_buy_quote_asset_volume', 'ignore']\n",
    "\n",
    "df = pd.DataFrame(results, columns=columns)\n"
   ]
  },
  {
   "cell_type": "code",
   "execution_count": 5,
   "metadata": {},
   "outputs": [],
   "source": [
    "df = df[['open_time', 'open_price']]\n",
    "\n",
    "with open('data.csv', 'w') as file:\n",
    "    file.write(df.to_csv())"
   ]
  },
  {
   "cell_type": "code",
   "execution_count": 6,
   "metadata": {},
   "outputs": [
    {
     "data": {
      "text/html": [
       "<div>\n",
       "<style scoped>\n",
       "    .dataframe tbody tr th:only-of-type {\n",
       "        vertical-align: middle;\n",
       "    }\n",
       "\n",
       "    .dataframe tbody tr th {\n",
       "        vertical-align: top;\n",
       "    }\n",
       "\n",
       "    .dataframe thead th {\n",
       "        text-align: right;\n",
       "    }\n",
       "</style>\n",
       "<table border=\"1\" class=\"dataframe\">\n",
       "  <thead>\n",
       "    <tr style=\"text-align: right;\">\n",
       "      <th></th>\n",
       "      <th>open_time</th>\n",
       "      <th>open_price</th>\n",
       "    </tr>\n",
       "  </thead>\n",
       "  <tbody>\n",
       "    <tr>\n",
       "      <th>0</th>\n",
       "      <td>1556139600000</td>\n",
       "      <td>5409.00000000</td>\n",
       "    </tr>\n",
       "    <tr>\n",
       "      <th>1</th>\n",
       "      <td>1556143200000</td>\n",
       "      <td>5399.23000000</td>\n",
       "    </tr>\n",
       "    <tr>\n",
       "      <th>2</th>\n",
       "      <td>1556146800000</td>\n",
       "      <td>5413.32000000</td>\n",
       "    </tr>\n",
       "    <tr>\n",
       "      <th>3</th>\n",
       "      <td>1556150400000</td>\n",
       "      <td>5415.00000000</td>\n",
       "    </tr>\n",
       "    <tr>\n",
       "      <th>4</th>\n",
       "      <td>1556154000000</td>\n",
       "      <td>5426.98000000</td>\n",
       "    </tr>\n",
       "    <tr>\n",
       "      <th>...</th>\n",
       "      <td>...</td>\n",
       "      <td>...</td>\n",
       "    </tr>\n",
       "    <tr>\n",
       "      <th>35005</th>\n",
       "      <td>1682352000000</td>\n",
       "      <td>27267.06000000</td>\n",
       "    </tr>\n",
       "    <tr>\n",
       "      <th>35006</th>\n",
       "      <td>1682355600000</td>\n",
       "      <td>27110.56000000</td>\n",
       "    </tr>\n",
       "    <tr>\n",
       "      <th>35007</th>\n",
       "      <td>1682359200000</td>\n",
       "      <td>27381.48000000</td>\n",
       "    </tr>\n",
       "    <tr>\n",
       "      <th>35008</th>\n",
       "      <td>1682362800000</td>\n",
       "      <td>27339.91000000</td>\n",
       "    </tr>\n",
       "    <tr>\n",
       "      <th>35009</th>\n",
       "      <td>1682366400000</td>\n",
       "      <td>27383.28000000</td>\n",
       "    </tr>\n",
       "  </tbody>\n",
       "</table>\n",
       "<p>35010 rows × 2 columns</p>\n",
       "</div>"
      ],
      "text/plain": [
       "           open_time      open_price\n",
       "0      1556139600000   5409.00000000\n",
       "1      1556143200000   5399.23000000\n",
       "2      1556146800000   5413.32000000\n",
       "3      1556150400000   5415.00000000\n",
       "4      1556154000000   5426.98000000\n",
       "...              ...             ...\n",
       "35005  1682352000000  27267.06000000\n",
       "35006  1682355600000  27110.56000000\n",
       "35007  1682359200000  27381.48000000\n",
       "35008  1682362800000  27339.91000000\n",
       "35009  1682366400000  27383.28000000\n",
       "\n",
       "[35010 rows x 2 columns]"
      ]
     },
     "execution_count": 6,
     "metadata": {},
     "output_type": "execute_result"
    }
   ],
   "source": [
    "df"
   ]
  },
  {
   "attachments": {},
   "cell_type": "markdown",
   "metadata": {},
   "source": [
    "# Preparing data"
   ]
  },
  {
   "cell_type": "code",
   "execution_count": 7,
   "metadata": {},
   "outputs": [
    {
     "name": "stdout",
     "output_type": "stream",
     "text": [
      "<class 'pandas.core.frame.DataFrame'>\n",
      "RangeIndex: 35010 entries, 0 to 35009\n",
      "Data columns (total 2 columns):\n",
      " #   Column      Non-Null Count  Dtype \n",
      "---  ------      --------------  ----- \n",
      " 0   open_time   35010 non-null  int64 \n",
      " 1   open_price  35010 non-null  object\n",
      "dtypes: int64(1), object(1)\n",
      "memory usage: 547.2+ KB\n"
     ]
    }
   ],
   "source": [
    "df.info()"
   ]
  },
  {
   "attachments": {},
   "cell_type": "markdown",
   "metadata": {},
   "source": [
    "### Split df to dates and prices"
   ]
  },
  {
   "cell_type": "code",
   "execution_count": 8,
   "metadata": {},
   "outputs": [],
   "source": [
    "df_dates = df['open_time']\n",
    "df_prices = df['open_price']"
   ]
  },
  {
   "cell_type": "code",
   "execution_count": 9,
   "metadata": {},
   "outputs": [
    {
     "data": {
      "text/plain": [
       "0         5409.00000000\n",
       "1         5399.23000000\n",
       "2         5413.32000000\n",
       "3         5415.00000000\n",
       "4         5426.98000000\n",
       "              ...      \n",
       "35005    27267.06000000\n",
       "35006    27110.56000000\n",
       "35007    27381.48000000\n",
       "35008    27339.91000000\n",
       "35009    27383.28000000\n",
       "Name: open_price, Length: 35010, dtype: object"
      ]
     },
     "execution_count": 9,
     "metadata": {},
     "output_type": "execute_result"
    }
   ],
   "source": [
    "df_prices"
   ]
  },
  {
   "attachments": {},
   "cell_type": "markdown",
   "metadata": {},
   "source": [
    "### Change df_prices type from object to float"
   ]
  },
  {
   "cell_type": "code",
   "execution_count": 10,
   "metadata": {},
   "outputs": [],
   "source": [
    "df_prices = df_prices.astype(float)"
   ]
  },
  {
   "cell_type": "code",
   "execution_count": 11,
   "metadata": {},
   "outputs": [
    {
     "data": {
      "text/plain": [
       "0         5409.00\n",
       "1         5399.23\n",
       "2         5413.32\n",
       "3         5415.00\n",
       "4         5426.98\n",
       "           ...   \n",
       "35005    27267.06\n",
       "35006    27110.56\n",
       "35007    27381.48\n",
       "35008    27339.91\n",
       "35009    27383.28\n",
       "Name: open_price, Length: 35010, dtype: float64"
      ]
     },
     "execution_count": 11,
     "metadata": {},
     "output_type": "execute_result"
    }
   ],
   "source": [
    "df_prices"
   ]
  },
  {
   "attachments": {},
   "cell_type": "markdown",
   "metadata": {},
   "source": [
    "## Split into training, validation and test"
   ]
  },
  {
   "cell_type": "code",
   "execution_count": 12,
   "metadata": {},
   "outputs": [],
   "source": [
    "train_valid_border =int(len(df_prices) * 0.65)\n",
    "valid_test_border = int(len(df_prices) * 0.75)\n",
    "\n",
    "train, valid, test = np.split(df_prices, [train_valid_border, valid_test_border])"
   ]
  },
  {
   "cell_type": "code",
   "execution_count": 13,
   "metadata": {},
   "outputs": [
    {
     "data": {
      "text/plain": [
       "(22756, 3501, 8753)"
      ]
     },
     "execution_count": 13,
     "metadata": {},
     "output_type": "execute_result"
    }
   ],
   "source": [
    "len(train), len(valid), len(test)"
   ]
  },
  {
   "attachments": {},
   "cell_type": "markdown",
   "metadata": {},
   "source": [
    "### Save min and max (for 'predict/next_hour_forecasting.ipynb')"
   ]
  },
  {
   "cell_type": "code",
   "execution_count": 14,
   "metadata": {},
   "outputs": [],
   "source": [
    "with open('./train_min_max_std/min.txt', 'w') as file:\n",
    "    file.write(str(train.min()))\n",
    "\n",
    "with open('./train_min_max_std/max.txt', 'w') as file:\n",
    "    file.write(str(train.max()))"
   ]
  },
  {
   "attachments": {},
   "cell_type": "markdown",
   "metadata": {},
   "source": [
    "# Scale"
   ]
  },
  {
   "cell_type": "code",
   "execution_count": 15,
   "metadata": {},
   "outputs": [],
   "source": [
    "scaler = MinMaxScaler()\n",
    "\n",
    "train_norm = scaler.fit_transform(train.values.reshape(-1, 1))\n",
    "valid_norm = scaler.fit_transform(valid.values.reshape(-1, 1))\n",
    "test_norm = scaler.fit_transform(test.values.reshape(-1, 1))"
   ]
  },
  {
   "attachments": {},
   "cell_type": "markdown",
   "metadata": {},
   "source": [
    "## Plot"
   ]
  },
  {
   "cell_type": "code",
   "execution_count": 16,
   "metadata": {},
   "outputs": [
    {
     "data": {
      "text/plain": [
       "Text(0, 0.5, 'Exchange rate BTC to USDT')"
      ]
     },
     "execution_count": 16,
     "metadata": {},
     "output_type": "execute_result"
    },
    {
     "data": {
      "image/png": "[encoded data removed]",
      "text/plain": [
       "<Figure size 640x480 with 1 Axes>"
      ]
     },
     "metadata": {},
     "output_type": "display_data"
    }
   ],
   "source": [
    "plt.plot(df_dates[:train_valid_border], train_norm)\n",
    "plt.title('train')\n",
    "plt.xlabel('Date from 1 year ago to now')\n",
    "plt.ylabel('Exchange rate BTC to USDT')"
   ]
  },
  {
   "cell_type": "code",
   "execution_count": 17,
   "metadata": {},
   "outputs": [
    {
     "data": {
      "text/plain": [
       "Text(0, 0.5, 'Exchange rate BTC to USDT')"
      ]
     },
     "execution_count": 17,
     "metadata": {},
     "output_type": "execute_result"
    },
    {
     "data": {
      "image/png": "[encoded data removed]",
      "text/plain": [
       "<Figure size 640x480 with 1 Axes>"
      ]
     },
     "metadata": {},
     "output_type": "display_data"
    }
   ],
   "source": [
    "plt.plot(df_dates[train_valid_border:valid_test_border], valid_norm)\n",
    "plt.title('valid')\n",
    "plt.xlabel('Date from 1 year ago to now')\n",
    "plt.ylabel('Exchange rate BTC to USDT')"
   ]
  },
  {
   "cell_type": "code",
   "execution_count": 18,
   "metadata": {},
   "outputs": [
    {
     "data": {
      "text/plain": [
       "Text(0, 0.5, 'Exchange rate BTC to USDT')"
      ]
     },
     "execution_count": 18,
     "metadata": {},
     "output_type": "execute_result"
    },
    {
     "data": {
      "image/png": "[encoded data removed]",
      "text/plain": [
       "<Figure size 640x480 with 1 Axes>"
      ]
     },
     "metadata": {},
     "output_type": "display_data"
    }
   ],
   "source": [
    "plt.plot(df_dates[valid_test_border:], test_norm)\n",
    "plt.title('test')\n",
    "plt.xlabel('Date from 1 year ago to now')\n",
    "plt.ylabel('Exchange rate BTC to USDT')"
   ]
  },
  {
   "attachments": {},
   "cell_type": "markdown",
   "metadata": {},
   "source": [
    "# Arrays => X, y  (Time series)"
   ]
  },
  {
   "cell_type": "code",
   "execution_count": 19,
   "metadata": {},
   "outputs": [
    {
     "name": "stdout",
     "output_type": "stream",
     "text": [
      "Number of batches in train_gen: 221\n"
     ]
    }
   ],
   "source": [
    "look_back = 720 # x will be last 720 hours for each y\n",
    "\n",
    "train_gen = TimeseriesGenerator(train_norm, train_norm, length=look_back, batch_size=100)\n",
    "valid_gen = TimeseriesGenerator(valid_norm, valid_norm, length=look_back, batch_size=1)\n",
    "test_gen = TimeseriesGenerator(test_norm, test_norm, length=look_back, batch_size=1)\n",
    "\n",
    "print('Number of batches in train_gen:', train_gen.__len__())"
   ]
  },
  {
   "attachments": {},
   "cell_type": "markdown",
   "metadata": {},
   "source": [
    "### X for first batch in train_gen (as pd dataframe)"
   ]
  },
  {
   "cell_type": "code",
   "execution_count": 20,
   "metadata": {},
   "outputs": [
    {
     "data": {
      "text/html": [
       "<div>\n",
       "<style scoped>\n",
       "    .dataframe tbody tr th:only-of-type {\n",
       "        vertical-align: middle;\n",
       "    }\n",
       "\n",
       "    .dataframe tbody tr th {\n",
       "        vertical-align: top;\n",
       "    }\n",
       "\n",
       "    .dataframe thead th {\n",
       "        text-align: right;\n",
       "    }\n",
       "</style>\n",
       "<table border=\"1\" class=\"dataframe\">\n",
       "  <thead>\n",
       "    <tr style=\"text-align: right;\">\n",
       "      <th></th>\n",
       "      <th>0</th>\n",
       "      <th>1</th>\n",
       "      <th>2</th>\n",
       "      <th>3</th>\n",
       "      <th>4</th>\n",
       "      <th>5</th>\n",
       "      <th>6</th>\n",
       "      <th>7</th>\n",
       "      <th>8</th>\n",
       "      <th>9</th>\n",
       "      <th>...</th>\n",
       "      <th>710</th>\n",
       "      <th>711</th>\n",
       "      <th>712</th>\n",
       "      <th>713</th>\n",
       "      <th>714</th>\n",
       "      <th>715</th>\n",
       "      <th>716</th>\n",
       "      <th>717</th>\n",
       "      <th>718</th>\n",
       "      <th>719</th>\n",
       "    </tr>\n",
       "  </thead>\n",
       "  <tbody>\n",
       "    <tr>\n",
       "      <th>0</th>\n",
       "      <td>0.019809</td>\n",
       "      <td>0.019658</td>\n",
       "      <td>0.019876</td>\n",
       "      <td>0.019902</td>\n",
       "      <td>0.020088</td>\n",
       "      <td>0.020145</td>\n",
       "      <td>0.019731</td>\n",
       "      <td>0.019873</td>\n",
       "      <td>0.019670</td>\n",
       "      <td>0.019769</td>\n",
       "      <td>...</td>\n",
       "      <td>0.061145</td>\n",
       "      <td>0.060270</td>\n",
       "      <td>0.060142</td>\n",
       "      <td>0.059427</td>\n",
       "      <td>0.059496</td>\n",
       "      <td>0.060145</td>\n",
       "      <td>0.060092</td>\n",
       "      <td>0.059620</td>\n",
       "      <td>0.059757</td>\n",
       "      <td>0.058953</td>\n",
       "    </tr>\n",
       "    <tr>\n",
       "      <th>1</th>\n",
       "      <td>0.019658</td>\n",
       "      <td>0.019876</td>\n",
       "      <td>0.019902</td>\n",
       "      <td>0.020088</td>\n",
       "      <td>0.020145</td>\n",
       "      <td>0.019731</td>\n",
       "      <td>0.019873</td>\n",
       "      <td>0.019670</td>\n",
       "      <td>0.019769</td>\n",
       "      <td>0.019374</td>\n",
       "      <td>...</td>\n",
       "      <td>0.060270</td>\n",
       "      <td>0.060142</td>\n",
       "      <td>0.059427</td>\n",
       "      <td>0.059496</td>\n",
       "      <td>0.060145</td>\n",
       "      <td>0.060092</td>\n",
       "      <td>0.059620</td>\n",
       "      <td>0.059757</td>\n",
       "      <td>0.058953</td>\n",
       "      <td>0.058960</td>\n",
       "    </tr>\n",
       "    <tr>\n",
       "      <th>2</th>\n",
       "      <td>0.019876</td>\n",
       "      <td>0.019902</td>\n",
       "      <td>0.020088</td>\n",
       "      <td>0.020145</td>\n",
       "      <td>0.019731</td>\n",
       "      <td>0.019873</td>\n",
       "      <td>0.019670</td>\n",
       "      <td>0.019769</td>\n",
       "      <td>0.019374</td>\n",
       "      <td>0.019763</td>\n",
       "      <td>...</td>\n",
       "      <td>0.060142</td>\n",
       "      <td>0.059427</td>\n",
       "      <td>0.059496</td>\n",
       "      <td>0.060145</td>\n",
       "      <td>0.060092</td>\n",
       "      <td>0.059620</td>\n",
       "      <td>0.059757</td>\n",
       "      <td>0.058953</td>\n",
       "      <td>0.058960</td>\n",
       "      <td>0.059336</td>\n",
       "    </tr>\n",
       "    <tr>\n",
       "      <th>3</th>\n",
       "      <td>0.019902</td>\n",
       "      <td>0.020088</td>\n",
       "      <td>0.020145</td>\n",
       "      <td>0.019731</td>\n",
       "      <td>0.019873</td>\n",
       "      <td>0.019670</td>\n",
       "      <td>0.019769</td>\n",
       "      <td>0.019374</td>\n",
       "      <td>0.019763</td>\n",
       "      <td>0.019717</td>\n",
       "      <td>...</td>\n",
       "      <td>0.059427</td>\n",
       "      <td>0.059496</td>\n",
       "      <td>0.060145</td>\n",
       "      <td>0.060092</td>\n",
       "      <td>0.059620</td>\n",
       "      <td>0.059757</td>\n",
       "      <td>0.058953</td>\n",
       "      <td>0.058960</td>\n",
       "      <td>0.059336</td>\n",
       "      <td>0.060020</td>\n",
       "    </tr>\n",
       "    <tr>\n",
       "      <th>4</th>\n",
       "      <td>0.020088</td>\n",
       "      <td>0.020145</td>\n",
       "      <td>0.019731</td>\n",
       "      <td>0.019873</td>\n",
       "      <td>0.019670</td>\n",
       "      <td>0.019769</td>\n",
       "      <td>0.019374</td>\n",
       "      <td>0.019763</td>\n",
       "      <td>0.019717</td>\n",
       "      <td>0.019654</td>\n",
       "      <td>...</td>\n",
       "      <td>0.059496</td>\n",
       "      <td>0.060145</td>\n",
       "      <td>0.060092</td>\n",
       "      <td>0.059620</td>\n",
       "      <td>0.059757</td>\n",
       "      <td>0.058953</td>\n",
       "      <td>0.058960</td>\n",
       "      <td>0.059336</td>\n",
       "      <td>0.060020</td>\n",
       "      <td>0.060678</td>\n",
       "    </tr>\n",
       "    <tr>\n",
       "      <th>...</th>\n",
       "      <td>...</td>\n",
       "      <td>...</td>\n",
       "      <td>...</td>\n",
       "      <td>...</td>\n",
       "      <td>...</td>\n",
       "      <td>...</td>\n",
       "      <td>...</td>\n",
       "      <td>...</td>\n",
       "      <td>...</td>\n",
       "      <td>...</td>\n",
       "      <td>...</td>\n",
       "      <td>...</td>\n",
       "      <td>...</td>\n",
       "      <td>...</td>\n",
       "      <td>...</td>\n",
       "      <td>...</td>\n",
       "      <td>...</td>\n",
       "      <td>...</td>\n",
       "      <td>...</td>\n",
       "      <td>...</td>\n",
       "      <td>...</td>\n",
       "    </tr>\n",
       "    <tr>\n",
       "      <th>95</th>\n",
       "      <td>0.017982</td>\n",
       "      <td>0.017810</td>\n",
       "      <td>0.017902</td>\n",
       "      <td>0.018322</td>\n",
       "      <td>0.018271</td>\n",
       "      <td>0.018512</td>\n",
       "      <td>0.018400</td>\n",
       "      <td>0.018436</td>\n",
       "      <td>0.018403</td>\n",
       "      <td>0.018542</td>\n",
       "      <td>...</td>\n",
       "      <td>0.070669</td>\n",
       "      <td>0.070711</td>\n",
       "      <td>0.070990</td>\n",
       "      <td>0.070994</td>\n",
       "      <td>0.071091</td>\n",
       "      <td>0.070515</td>\n",
       "      <td>0.070145</td>\n",
       "      <td>0.069960</td>\n",
       "      <td>0.069958</td>\n",
       "      <td>0.068885</td>\n",
       "    </tr>\n",
       "    <tr>\n",
       "      <th>96</th>\n",
       "      <td>0.017810</td>\n",
       "      <td>0.017902</td>\n",
       "      <td>0.018322</td>\n",
       "      <td>0.018271</td>\n",
       "      <td>0.018512</td>\n",
       "      <td>0.018400</td>\n",
       "      <td>0.018436</td>\n",
       "      <td>0.018403</td>\n",
       "      <td>0.018542</td>\n",
       "      <td>0.018404</td>\n",
       "      <td>...</td>\n",
       "      <td>0.070711</td>\n",
       "      <td>0.070990</td>\n",
       "      <td>0.070994</td>\n",
       "      <td>0.071091</td>\n",
       "      <td>0.070515</td>\n",
       "      <td>0.070145</td>\n",
       "      <td>0.069960</td>\n",
       "      <td>0.069958</td>\n",
       "      <td>0.068885</td>\n",
       "      <td>0.067019</td>\n",
       "    </tr>\n",
       "    <tr>\n",
       "      <th>97</th>\n",
       "      <td>0.017902</td>\n",
       "      <td>0.018322</td>\n",
       "      <td>0.018271</td>\n",
       "      <td>0.018512</td>\n",
       "      <td>0.018400</td>\n",
       "      <td>0.018436</td>\n",
       "      <td>0.018403</td>\n",
       "      <td>0.018542</td>\n",
       "      <td>0.018404</td>\n",
       "      <td>0.018403</td>\n",
       "      <td>...</td>\n",
       "      <td>0.070990</td>\n",
       "      <td>0.070994</td>\n",
       "      <td>0.071091</td>\n",
       "      <td>0.070515</td>\n",
       "      <td>0.070145</td>\n",
       "      <td>0.069960</td>\n",
       "      <td>0.069958</td>\n",
       "      <td>0.068885</td>\n",
       "      <td>0.067019</td>\n",
       "      <td>0.067782</td>\n",
       "    </tr>\n",
       "    <tr>\n",
       "      <th>98</th>\n",
       "      <td>0.018322</td>\n",
       "      <td>0.018271</td>\n",
       "      <td>0.018512</td>\n",
       "      <td>0.018400</td>\n",
       "      <td>0.018436</td>\n",
       "      <td>0.018403</td>\n",
       "      <td>0.018542</td>\n",
       "      <td>0.018404</td>\n",
       "      <td>0.018403</td>\n",
       "      <td>0.018142</td>\n",
       "      <td>...</td>\n",
       "      <td>0.070994</td>\n",
       "      <td>0.071091</td>\n",
       "      <td>0.070515</td>\n",
       "      <td>0.070145</td>\n",
       "      <td>0.069960</td>\n",
       "      <td>0.069958</td>\n",
       "      <td>0.068885</td>\n",
       "      <td>0.067019</td>\n",
       "      <td>0.067782</td>\n",
       "      <td>0.068478</td>\n",
       "    </tr>\n",
       "    <tr>\n",
       "      <th>99</th>\n",
       "      <td>0.018271</td>\n",
       "      <td>0.018512</td>\n",
       "      <td>0.018400</td>\n",
       "      <td>0.018436</td>\n",
       "      <td>0.018403</td>\n",
       "      <td>0.018542</td>\n",
       "      <td>0.018404</td>\n",
       "      <td>0.018403</td>\n",
       "      <td>0.018142</td>\n",
       "      <td>0.018173</td>\n",
       "      <td>...</td>\n",
       "      <td>0.071091</td>\n",
       "      <td>0.070515</td>\n",
       "      <td>0.070145</td>\n",
       "      <td>0.069960</td>\n",
       "      <td>0.069958</td>\n",
       "      <td>0.068885</td>\n",
       "      <td>0.067019</td>\n",
       "      <td>0.067782</td>\n",
       "      <td>0.068478</td>\n",
       "      <td>0.069265</td>\n",
       "    </tr>\n",
       "  </tbody>\n",
       "</table>\n",
       "<p>100 rows × 720 columns</p>\n",
       "</div>"
      ],
      "text/plain": [
       "         0         1         2         3         4         5         6     \n",
       "0   0.019809  0.019658  0.019876  0.019902  0.020088  0.020145  0.019731  \\\n",
       "1   0.019658  0.019876  0.019902  0.020088  0.020145  0.019731  0.019873   \n",
       "2   0.019876  0.019902  0.020088  0.020145  0.019731  0.019873  0.019670   \n",
       "3   0.019902  0.020088  0.020145  0.019731  0.019873  0.019670  0.019769   \n",
       "4   0.020088  0.020145  0.019731  0.019873  0.019670  0.019769  0.019374   \n",
       "..       ...       ...       ...       ...       ...       ...       ...   \n",
       "95  0.017982  0.017810  0.017902  0.018322  0.018271  0.018512  0.018400   \n",
       "96  0.017810  0.017902  0.018322  0.018271  0.018512  0.018400  0.018436   \n",
       "97  0.017902  0.018322  0.018271  0.018512  0.018400  0.018436  0.018403   \n",
       "98  0.018322  0.018271  0.018512  0.018400  0.018436  0.018403  0.018542   \n",
       "99  0.018271  0.018512  0.018400  0.018436  0.018403  0.018542  0.018404   \n",
       "\n",
       "         7         8         9    ...       710       711       712       713   \n",
       "0   0.019873  0.019670  0.019769  ...  0.061145  0.060270  0.060142  0.059427  \\\n",
       "1   0.019670  0.019769  0.019374  ...  0.060270  0.060142  0.059427  0.059496   \n",
       "2   0.019769  0.019374  0.019763  ...  0.060142  0.059427  0.059496  0.060145   \n",
       "3   0.019374  0.019763  0.019717  ...  0.059427  0.059496  0.060145  0.060092   \n",
       "4   0.019763  0.019717  0.019654  ...  0.059496  0.060145  0.060092  0.059620   \n",
       "..       ...       ...       ...  ...       ...       ...       ...       ...   \n",
       "95  0.018436  0.018403  0.018542  ...  0.070669  0.070711  0.070990  0.070994   \n",
       "96  0.018403  0.018542  0.018404  ...  0.070711  0.070990  0.070994  0.071091   \n",
       "97  0.018542  0.018404  0.018403  ...  0.070990  0.070994  0.071091  0.070515   \n",
       "98  0.018404  0.018403  0.018142  ...  0.070994  0.071091  0.070515  0.070145   \n",
       "99  0.018403  0.018142  0.018173  ...  0.071091  0.070515  0.070145  0.069960   \n",
       "\n",
       "         714       715       716       717       718       719  \n",
       "0   0.059496  0.060145  0.060092  0.059620  0.059757  0.058953  \n",
       "1   0.060145  0.060092  0.059620  0.059757  0.058953  0.058960  \n",
       "2   0.060092  0.059620  0.059757  0.058953  0.058960  0.059336  \n",
       "3   0.059620  0.059757  0.058953  0.058960  0.059336  0.060020  \n",
       "4   0.059757  0.058953  0.058960  0.059336  0.060020  0.060678  \n",
       "..       ...       ...       ...       ...       ...       ...  \n",
       "95  0.071091  0.070515  0.070145  0.069960  0.069958  0.068885  \n",
       "96  0.070515  0.070145  0.069960  0.069958  0.068885  0.067019  \n",
       "97  0.070145  0.069960  0.069958  0.068885  0.067019  0.067782  \n",
       "98  0.069960  0.069958  0.068885  0.067019  0.067782  0.068478  \n",
       "99  0.069958  0.068885  0.067019  0.067782  0.068478  0.069265  \n",
       "\n",
       "[100 rows x 720 columns]"
      ]
     },
     "execution_count": 20,
     "metadata": {},
     "output_type": "execute_result"
    }
   ],
   "source": [
    "pd.DataFrame(train_gen.__getitem__(0)[0][...,0])"
   ]
  },
  {
   "attachments": {},
   "cell_type": "markdown",
   "metadata": {},
   "source": [
    "### y for first batch in train_gen (as pd dataframe)"
   ]
  },
  {
   "cell_type": "code",
   "execution_count": 21,
   "metadata": {},
   "outputs": [
    {
     "data": {
      "text/html": [
       "<div>\n",
       "<style scoped>\n",
       "    .dataframe tbody tr th:only-of-type {\n",
       "        vertical-align: middle;\n",
       "    }\n",
       "\n",
       "    .dataframe tbody tr th {\n",
       "        vertical-align: top;\n",
       "    }\n",
       "\n",
       "    .dataframe thead th {\n",
       "        text-align: right;\n",
       "    }\n",
       "</style>\n",
       "<table border=\"1\" class=\"dataframe\">\n",
       "  <thead>\n",
       "    <tr style=\"text-align: right;\">\n",
       "      <th></th>\n",
       "      <th>0</th>\n",
       "    </tr>\n",
       "  </thead>\n",
       "  <tbody>\n",
       "    <tr>\n",
       "      <th>0</th>\n",
       "      <td>0.058960</td>\n",
       "    </tr>\n",
       "    <tr>\n",
       "      <th>1</th>\n",
       "      <td>0.059336</td>\n",
       "    </tr>\n",
       "    <tr>\n",
       "      <th>2</th>\n",
       "      <td>0.060020</td>\n",
       "    </tr>\n",
       "    <tr>\n",
       "      <th>3</th>\n",
       "      <td>0.060678</td>\n",
       "    </tr>\n",
       "    <tr>\n",
       "      <th>4</th>\n",
       "      <td>0.060741</td>\n",
       "    </tr>\n",
       "    <tr>\n",
       "      <th>...</th>\n",
       "      <td>...</td>\n",
       "    </tr>\n",
       "    <tr>\n",
       "      <th>95</th>\n",
       "      <td>0.067019</td>\n",
       "    </tr>\n",
       "    <tr>\n",
       "      <th>96</th>\n",
       "      <td>0.067782</td>\n",
       "    </tr>\n",
       "    <tr>\n",
       "      <th>97</th>\n",
       "      <td>0.068478</td>\n",
       "    </tr>\n",
       "    <tr>\n",
       "      <th>98</th>\n",
       "      <td>0.069265</td>\n",
       "    </tr>\n",
       "    <tr>\n",
       "      <th>99</th>\n",
       "      <td>0.069816</td>\n",
       "    </tr>\n",
       "  </tbody>\n",
       "</table>\n",
       "<p>100 rows × 1 columns</p>\n",
       "</div>"
      ],
      "text/plain": [
       "           0\n",
       "0   0.058960\n",
       "1   0.059336\n",
       "2   0.060020\n",
       "3   0.060678\n",
       "4   0.060741\n",
       "..       ...\n",
       "95  0.067019\n",
       "96  0.067782\n",
       "97  0.068478\n",
       "98  0.069265\n",
       "99  0.069816\n",
       "\n",
       "[100 rows x 1 columns]"
      ]
     },
     "execution_count": 21,
     "metadata": {},
     "output_type": "execute_result"
    }
   ],
   "source": [
    "pd.DataFrame(train_gen.__getitem__(0)[1])"
   ]
  },
  {
   "attachments": {},
   "cell_type": "markdown",
   "metadata": {},
   "source": [
    "# Training"
   ]
  },
  {
   "cell_type": "code",
   "execution_count": 22,
   "metadata": {},
   "outputs": [
    {
     "name": "stdout",
     "output_type": "stream",
     "text": [
      "Epoch 1/10\n"
     ]
    },
    {
     "name": "stderr",
     "output_type": "stream",
     "text": [
      "C:\\Users\\Evgeny\\AppData\\Local\\Temp\\ipykernel_16068\\1333994285.py:13: UserWarning: `Model.fit_generator` is deprecated and will be removed in a future version. Please use `Model.fit`, which supports generators.\n",
      "  model.fit_generator(train_gen, epochs=10, validation_data=valid_gen, callbacks=early_stopping)\n"
     ]
    },
    {
     "name": "stdout",
     "output_type": "stream",
     "text": [
      "221/221 [==============================] - 63s 272ms/step - loss: 0.0158 - mae: 0.0756 - val_loss: 0.0020 - val_mae: 0.0392\n",
      "Epoch 2/10\n",
      "221/221 [==============================] - 65s 297ms/step - loss: 8.1363e-04 - mae: 0.0198 - val_loss: 7.0177e-04 - val_mae: 0.0204\n",
      "Epoch 3/10\n",
      "221/221 [==============================] - 65s 293ms/step - loss: 2.9485e-04 - mae: 0.0112 - val_loss: 5.2944e-04 - val_mae: 0.0165\n",
      "Epoch 4/10\n",
      "221/221 [==============================] - 69s 312ms/step - loss: 1.3423e-04 - mae: 0.0075 - val_loss: 4.5235e-04 - val_mae: 0.0149\n",
      "Epoch 5/10\n",
      "221/221 [==============================] - 65s 296ms/step - loss: 1.1330e-04 - mae: 0.0066 - val_loss: 4.8725e-04 - val_mae: 0.0156\n",
      "Epoch 6/10\n",
      "221/221 [==============================] - 68s 309ms/step - loss: 8.0354e-05 - mae: 0.0055 - val_loss: 4.4256e-04 - val_mae: 0.0145\n",
      "Epoch 7/10\n",
      "221/221 [==============================] - 71s 321ms/step - loss: 7.4772e-05 - mae: 0.0052 - val_loss: 4.5526e-04 - val_mae: 0.0148\n",
      "Epoch 8/10\n",
      "221/221 [==============================] - 81s 370ms/step - loss: 7.5542e-05 - mae: 0.0053 - val_loss: 4.2593e-04 - val_mae: 0.0145\n",
      "Epoch 9/10\n",
      "221/221 [==============================] - 73s 333ms/step - loss: 7.2203e-05 - mae: 0.0053 - val_loss: 4.2218e-04 - val_mae: 0.0144\n",
      "Epoch 10/10\n",
      "221/221 [==============================] - 68s 311ms/step - loss: 7.0796e-05 - mae: 0.0052 - val_loss: 4.1218e-04 - val_mae: 0.0139\n"
     ]
    },
    {
     "data": {
      "text/plain": [
       "<keras.callbacks.History at 0x1a2220457b0>"
      ]
     },
     "execution_count": 22,
     "metadata": {},
     "output_type": "execute_result"
    }
   ],
   "source": [
    "data_dim = 1\n",
    "\n",
    "model = Sequential()\n",
    "\n",
    "model.add(InputLayer(input_shape=(look_back, data_dim)))\n",
    "model.add(LSTM(8))\n",
    "model.add(Dense(1, activation='linear'))\n",
    "\n",
    "early_stopping = EarlyStopping(patience=2)\n",
    "\n",
    "model.compile('adam', loss='mse', metrics=['mae'])\n",
    "\n",
    "model.fit_generator(train_gen, epochs=10, validation_data=valid_gen, callbacks=early_stopping)"
   ]
  },
  {
   "attachments": {},
   "cell_type": "markdown",
   "metadata": {},
   "source": [
    "# Test"
   ]
  },
  {
   "cell_type": "code",
   "execution_count": 23,
   "metadata": {},
   "outputs": [],
   "source": [
    "# loss, mae = model.evaluate_generator(test_gen, steps=len(test_gen))"
   ]
  },
  {
   "cell_type": "code",
   "execution_count": 24,
   "metadata": {},
   "outputs": [],
   "source": [
    "# print(f'Loss: {loss} \\nMean absolute error(mae): {mae}')"
   ]
  },
  {
   "cell_type": "code",
   "execution_count": 25,
   "metadata": {},
   "outputs": [
    {
     "name": "stderr",
     "output_type": "stream",
     "text": [
      "C:\\Users\\Evgeny\\AppData\\Local\\Temp\\ipykernel_16068\\1890124827.py:1: UserWarning: `Model.predict_generator` is deprecated and will be removed in a future version. Please use `Model.predict`, which supports generators.\n",
      "  y_pred = model.predict_generator(test_gen)\n"
     ]
    }
   ],
   "source": [
    "y_pred = model.predict_generator(test_gen)\n"
   ]
  },
  {
   "cell_type": "code",
   "execution_count": 26,
   "metadata": {},
   "outputs": [],
   "source": [
    "y_true = test_gen.targets[721:]"
   ]
  },
  {
   "cell_type": "code",
   "execution_count": 27,
   "metadata": {},
   "outputs": [
    {
     "data": {
      "text/plain": [
       "<matplotlib.legend.Legend at 0x1a2221797b0>"
      ]
     },
     "execution_count": 27,
     "metadata": {},
     "output_type": "execute_result"
    },
    {
     "data": {
      "image/png": "[encoded data removed]",
      "text/plain": [
       "<Figure size 640x480 with 1 Axes>"
      ]
     },
     "metadata": {},
     "output_type": "display_data"
    }
   ],
   "source": [
    "plt.plot(y_true, label='Actual')\n",
    "plt.plot(y_pred, label='Predicted')\n",
    "plt.legend()"
   ]
  },
  {
   "attachments": {},
   "cell_type": "markdown",
   "metadata": {},
   "source": [
    "# Save model"
   ]
  },
  {
   "cell_type": "code",
   "execution_count": 28,
   "metadata": {},
   "outputs": [],
   "source": [
    "model.save('./predict/saved_model.h5', save_format='h5')"
   ]
  }
 ],
 "metadata": {
  "kernelspec": {
   "display_name": ".venv",
   "language": "python",
   "name": "python3"
  },
  "language_info": {
   "codemirror_mode": {
    "name": "ipython",
    "version": 3
   },
   "file_extension": ".py",
   "mimetype": "text/x-python",
   "name": "python",
   "nbconvert_exporter": "python",
   "pygments_lexer": "ipython3",
   "version": "3.10.0"
  },
  "orig_nbformat": 4
 },
 "nbformat": 4,
 "nbformat_minor": 2
}
