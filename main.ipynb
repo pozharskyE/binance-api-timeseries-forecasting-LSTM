{
 "cells": [
  {
   "cell_type": "code",
   "execution_count": 4,
   "metadata": {},
   "outputs": [],
   "source": [
    "import requests\n",
    "import json\n",
    "import csv\n",
    "import time\n",
    "\n",
    "import pandas as pd\n",
    "import numpy as np\n",
    "import matplotlib.pyplot as plt\n",
    "\n",
    "from sklearn.preprocessing import MinMaxScaler\n",
    "\n",
    "from tensorflow import config\n",
    "from keras.preprocessing.sequence import TimeseriesGenerator\n",
    "from keras.models import Sequential\n",
    "from keras.layers import LSTM, Dense, InputLayer\n",
    "from keras.callbacks import EarlyStopping\n"
   ]
  },
  {
   "cell_type": "code",
   "execution_count": 5,
   "metadata": {},
   "outputs": [
    {
     "data": {
      "text/plain": [
       "[LogicalDevice(name='/device:CPU:0', device_type='CPU'),\n",
       " LogicalDevice(name='/device:GPU:0', device_type='GPU')]"
      ]
     },
     "execution_count": 5,
     "metadata": {},
     "output_type": "execute_result"
    }
   ],
   "source": [
    "config.list_logical_devices()"
   ]
  },
  {
   "attachments": {},
   "cell_type": "markdown",
   "metadata": {},
   "source": [
    "# Get the data from Binance api"
   ]
  },
  {
   "attachments": {},
   "cell_type": "markdown",
   "metadata": {},
   "source": [
    "## Get"
   ]
  },
  {
   "cell_type": "code",
   "execution_count": 6,
   "metadata": {},
   "outputs": [],
   "source": [
    "# You can create 'api_key.txt' file with your api key inside it (it's already in '.gitignore')\n",
    "# or just replace 'api_key.txt' => 'your_api_key'\n",
    "api_key = open('api_key.txt', 'r').read()\n",
    "\n",
    "endpoint = 'https://api.binance.com/api/v3/klines'\n",
    "\n",
    "symbol =  'BTCUSDT'\n",
    "interval =  '1h'\n",
    "limit = 1000\n",
    "headers = {\n",
    "    'X-MBX-APIKEY': api_key\n",
    "}\n",
    "\n",
    "# Get current date, one year ago\n",
    "start_time = int((time.time() - 31536000) * 1000) # 31536000 seconds = 1 year\n",
    "end_time = int(time.time() * 1000)\n",
    "\n",
    "results = []\n",
    "\n",
    "# Loop through the data until there is no more left\n",
    "while True:\n",
    "    # Make the initial request with these parameters\n",
    "    params = {'symbol': symbol, 'interval': interval, 'startTime': start_time, 'endTime': end_time, 'limit': limit}\n",
    "    response = requests.get(endpoint, headers=headers, params=params)\n",
    "\n",
    "    # Check if there is any data left\n",
    "    if not response.json():\n",
    "        break\n",
    "\n",
    "    # Append the data to the results list\n",
    "    results.extend(response.json())\n",
    "\n",
    "    # Set the start time for the next request\n",
    "    start_time = int(results[-1][0]) + 1\n"
   ]
  },
  {
   "attachments": {},
   "cell_type": "markdown",
   "metadata": {},
   "source": [
    "## Define dataframe columns and create datafile"
   ]
  },
  {
   "cell_type": "code",
   "execution_count": 7,
   "metadata": {},
   "outputs": [],
   "source": [
    "columns = ['open_time', 'open_price', 'high_price', 'low_price',\n",
    "            'close_price', 'Volume', 'close_time', 'quote_asset_volume',\n",
    "            'number_of_trades', 'taker_buy_base_asset_volume', 'taker_buy_quote_asset_volume', 'ignore']\n",
    "\n",
    "df = pd.DataFrame(results, columns=columns)\n"
   ]
  },
  {
   "cell_type": "code",
   "execution_count": 8,
   "metadata": {},
   "outputs": [],
   "source": [
    "df = df[['open_time', 'open_price']]\n",
    "\n",
    "with open('data.csv', 'w') as file:\n",
    "    file.write(df.to_csv())"
   ]
  },
  {
   "cell_type": "code",
   "execution_count": 9,
   "metadata": {},
   "outputs": [
    {
     "data": {
      "text/html": [
       "<div>\n",
       "<style scoped>\n",
       "    .dataframe tbody tr th:only-of-type {\n",
       "        vertical-align: middle;\n",
       "    }\n",
       "\n",
       "    .dataframe tbody tr th {\n",
       "        vertical-align: top;\n",
       "    }\n",
       "\n",
       "    .dataframe thead th {\n",
       "        text-align: right;\n",
       "    }\n",
       "</style>\n",
       "<table border=\"1\" class=\"dataframe\">\n",
       "  <thead>\n",
       "    <tr style=\"text-align: right;\">\n",
       "      <th></th>\n",
       "      <th>open_time</th>\n",
       "      <th>open_price</th>\n",
       "    </tr>\n",
       "  </thead>\n",
       "  <tbody>\n",
       "    <tr>\n",
       "      <th>0</th>\n",
       "      <td>1650578400000</td>\n",
       "      <td>40726.46000000</td>\n",
       "    </tr>\n",
       "    <tr>\n",
       "      <th>1</th>\n",
       "      <td>1650582000000</td>\n",
       "      <td>40412.00000000</td>\n",
       "    </tr>\n",
       "    <tr>\n",
       "      <th>2</th>\n",
       "      <td>1650585600000</td>\n",
       "      <td>40480.01000000</td>\n",
       "    </tr>\n",
       "    <tr>\n",
       "      <th>3</th>\n",
       "      <td>1650589200000</td>\n",
       "      <td>40427.23000000</td>\n",
       "    </tr>\n",
       "    <tr>\n",
       "      <th>4</th>\n",
       "      <td>1650592800000</td>\n",
       "      <td>40501.23000000</td>\n",
       "    </tr>\n",
       "    <tr>\n",
       "      <th>...</th>\n",
       "      <td>...</td>\n",
       "      <td>...</td>\n",
       "    </tr>\n",
       "    <tr>\n",
       "      <th>8754</th>\n",
       "      <td>1682096400000</td>\n",
       "      <td>28042.71000000</td>\n",
       "    </tr>\n",
       "    <tr>\n",
       "      <th>8755</th>\n",
       "      <td>1682100000000</td>\n",
       "      <td>27901.64000000</td>\n",
       "    </tr>\n",
       "    <tr>\n",
       "      <th>8756</th>\n",
       "      <td>1682103600000</td>\n",
       "      <td>27783.97000000</td>\n",
       "    </tr>\n",
       "    <tr>\n",
       "      <th>8757</th>\n",
       "      <td>1682107200000</td>\n",
       "      <td>27279.90000000</td>\n",
       "    </tr>\n",
       "    <tr>\n",
       "      <th>8758</th>\n",
       "      <td>1682110800000</td>\n",
       "      <td>27270.87000000</td>\n",
       "    </tr>\n",
       "  </tbody>\n",
       "</table>\n",
       "<p>8759 rows × 2 columns</p>\n",
       "</div>"
      ],
      "text/plain": [
       "          open_time      open_price\n",
       "0     1650578400000  40726.46000000\n",
       "1     1650582000000  40412.00000000\n",
       "2     1650585600000  40480.01000000\n",
       "3     1650589200000  40427.23000000\n",
       "4     1650592800000  40501.23000000\n",
       "...             ...             ...\n",
       "8754  1682096400000  28042.71000000\n",
       "8755  1682100000000  27901.64000000\n",
       "8756  1682103600000  27783.97000000\n",
       "8757  1682107200000  27279.90000000\n",
       "8758  1682110800000  27270.87000000\n",
       "\n",
       "[8759 rows x 2 columns]"
      ]
     },
     "execution_count": 9,
     "metadata": {},
     "output_type": "execute_result"
    }
   ],
   "source": [
    "df"
   ]
  },
  {
   "attachments": {},
   "cell_type": "markdown",
   "metadata": {},
   "source": [
    "# Preparing data"
   ]
  },
  {
   "cell_type": "code",
   "execution_count": 10,
   "metadata": {},
   "outputs": [
    {
     "name": "stdout",
     "output_type": "stream",
     "text": [
      "<class 'pandas.core.frame.DataFrame'>\n",
      "RangeIndex: 8759 entries, 0 to 8758\n",
      "Data columns (total 2 columns):\n",
      " #   Column      Non-Null Count  Dtype \n",
      "---  ------      --------------  ----- \n",
      " 0   open_time   8759 non-null   int64 \n",
      " 1   open_price  8759 non-null   object\n",
      "dtypes: int64(1), object(1)\n",
      "memory usage: 137.0+ KB\n"
     ]
    }
   ],
   "source": [
    "df.info()"
   ]
  },
  {
   "attachments": {},
   "cell_type": "markdown",
   "metadata": {},
   "source": [
    "### Split df to dates and prices"
   ]
  },
  {
   "cell_type": "code",
   "execution_count": 11,
   "metadata": {},
   "outputs": [],
   "source": [
    "df_dates = df['open_time']\n",
    "df_prices = df['open_price']"
   ]
  },
  {
   "cell_type": "code",
   "execution_count": 12,
   "metadata": {},
   "outputs": [
    {
     "data": {
      "text/plain": [
       "0       40726.46000000\n",
       "1       40412.00000000\n",
       "2       40480.01000000\n",
       "3       40427.23000000\n",
       "4       40501.23000000\n",
       "             ...      \n",
       "8754    28042.71000000\n",
       "8755    27901.64000000\n",
       "8756    27783.97000000\n",
       "8757    27279.90000000\n",
       "8758    27270.87000000\n",
       "Name: open_price, Length: 8759, dtype: object"
      ]
     },
     "execution_count": 12,
     "metadata": {},
     "output_type": "execute_result"
    }
   ],
   "source": [
    "df_prices"
   ]
  },
  {
   "attachments": {},
   "cell_type": "markdown",
   "metadata": {},
   "source": [
    "### Change df_prices type from object to float"
   ]
  },
  {
   "cell_type": "code",
   "execution_count": 13,
   "metadata": {},
   "outputs": [],
   "source": [
    "df_prices = df_prices.astype(float)"
   ]
  },
  {
   "cell_type": "code",
   "execution_count": 14,
   "metadata": {},
   "outputs": [
    {
     "data": {
      "text/plain": [
       "0       40726.46\n",
       "1       40412.00\n",
       "2       40480.01\n",
       "3       40427.23\n",
       "4       40501.23\n",
       "          ...   \n",
       "8754    28042.71\n",
       "8755    27901.64\n",
       "8756    27783.97\n",
       "8757    27279.90\n",
       "8758    27270.87\n",
       "Name: open_price, Length: 8759, dtype: float64"
      ]
     },
     "execution_count": 14,
     "metadata": {},
     "output_type": "execute_result"
    }
   ],
   "source": [
    "df_prices"
   ]
  },
  {
   "attachments": {},
   "cell_type": "markdown",
   "metadata": {},
   "source": [
    "## Split into training, validation and test"
   ]
  },
  {
   "cell_type": "code",
   "execution_count": 15,
   "metadata": {},
   "outputs": [],
   "source": [
    "train, valid, test = np.split(df_prices, [int(len(df_prices) * 0.65), int(len(df_prices) * 0.75)])"
   ]
  },
  {
   "cell_type": "code",
   "execution_count": 16,
   "metadata": {},
   "outputs": [
    {
     "data": {
      "text/plain": [
       "(5693, 876, 2190)"
      ]
     },
     "execution_count": 16,
     "metadata": {},
     "output_type": "execute_result"
    }
   ],
   "source": [
    "len(train), len(valid), len(test)"
   ]
  },
  {
   "attachments": {},
   "cell_type": "markdown",
   "metadata": {},
   "source": [
    "# Scale"
   ]
  },
  {
   "cell_type": "code",
   "execution_count": 17,
   "metadata": {},
   "outputs": [],
   "source": [
    "scaler = MinMaxScaler()\n",
    "\n",
    "train_norm = scaler.fit_transform(train.values.reshape(-1, 1))\n",
    "valid_norm = scaler.fit_transform(valid.values.reshape(-1, 1))\n",
    "test_norm = scaler.fit_transform(test.values.reshape(-1, 1))"
   ]
  },
  {
   "attachments": {},
   "cell_type": "markdown",
   "metadata": {},
   "source": [
    "## Plot"
   ]
  },
  {
   "cell_type": "code",
   "execution_count": 18,
   "metadata": {},
   "outputs": [
    {
     "data": {
      "text/plain": [
       "Text(0, 0.5, 'Exchange rate BTC to USDT')"
      ]
     },
     "execution_count": 18,
     "metadata": {},
     "output_type": "execute_result"
    },
    {
     "data": {
      "image/png": "[encoded data removed]",
      "text/plain": [
       "<Figure size 640x480 with 1 Axes>"
      ]
     },
     "metadata": {},
     "output_type": "display_data"
    }
   ],
   "source": [
    "plt.plot(df_dates[:int(len(df_prices) * 0.65)], train_norm)\n",
    "plt.title('train')\n",
    "plt.xlabel('Date from 1 year ago to now')\n",
    "plt.ylabel('Exchange rate BTC to USDT')"
   ]
  },
  {
   "cell_type": "code",
   "execution_count": 19,
   "metadata": {},
   "outputs": [
    {
     "data": {
      "text/plain": [
       "Text(0, 0.5, 'Exchange rate BTC to USDT')"
      ]
     },
     "execution_count": 19,
     "metadata": {},
     "output_type": "execute_result"
    },
    {
     "data": {
      "image/png": "[encoded data removed]",
      "text/plain": [
       "<Figure size 640x480 with 1 Axes>"
      ]
     },
     "metadata": {},
     "output_type": "display_data"
    }
   ],
   "source": [
    "plt.plot(df_dates[int(len(df_prices) * 0.75):], test_norm)\n",
    "plt.title('test')\n",
    "plt.xlabel('Date from 1 year ago to now')\n",
    "plt.ylabel('Exchange rate BTC to USDT')"
   ]
  },
  {
   "attachments": {},
   "cell_type": "markdown",
   "metadata": {},
   "source": [
    "# Arrays => X, y\n"
   ]
  },
  {
   "cell_type": "code",
   "execution_count": 20,
   "metadata": {},
   "outputs": [
    {
     "name": "stdout",
     "output_type": "stream",
     "text": [
      "Number of batches in train_gen: 80\n"
     ]
    }
   ],
   "source": [
    "look_back = 96 # x will be last 96 hours for each y\n",
    "\n",
    "train_gen = TimeseriesGenerator(train.to_numpy(), train.to_numpy(), length=look_back, batch_size=70)\n",
    "valid_gen = TimeseriesGenerator(valid.to_numpy(), valid.to_numpy(), length=look_back, batch_size=1)\n",
    "test_gen = TimeseriesGenerator(test.to_numpy(), test.to_numpy(), length=look_back, batch_size=1)\n",
    "\n",
    "print('Number of batches in train_gen:', train_gen.__len__())"
   ]
  },
  {
   "attachments": {},
   "cell_type": "markdown",
   "metadata": {},
   "source": [
    "### X for first first batch in train_gen (as pd dataframe)"
   ]
  },
  {
   "cell_type": "code",
   "execution_count": 21,
   "metadata": {},
   "outputs": [
    {
     "data": {
      "text/html": [
       "<div>\n",
       "<style scoped>\n",
       "    .dataframe tbody tr th:only-of-type {\n",
       "        vertical-align: middle;\n",
       "    }\n",
       "\n",
       "    .dataframe tbody tr th {\n",
       "        vertical-align: top;\n",
       "    }\n",
       "\n",
       "    .dataframe thead th {\n",
       "        text-align: right;\n",
       "    }\n",
       "</style>\n",
       "<table border=\"1\" class=\"dataframe\">\n",
       "  <thead>\n",
       "    <tr style=\"text-align: right;\">\n",
       "      <th></th>\n",
       "      <th>0</th>\n",
       "      <th>1</th>\n",
       "      <th>2</th>\n",
       "      <th>3</th>\n",
       "      <th>4</th>\n",
       "      <th>5</th>\n",
       "      <th>6</th>\n",
       "      <th>7</th>\n",
       "      <th>8</th>\n",
       "      <th>9</th>\n",
       "      <th>...</th>\n",
       "      <th>86</th>\n",
       "      <th>87</th>\n",
       "      <th>88</th>\n",
       "      <th>89</th>\n",
       "      <th>90</th>\n",
       "      <th>91</th>\n",
       "      <th>92</th>\n",
       "      <th>93</th>\n",
       "      <th>94</th>\n",
       "      <th>95</th>\n",
       "    </tr>\n",
       "  </thead>\n",
       "  <tbody>\n",
       "    <tr>\n",
       "      <th>0</th>\n",
       "      <td>40726.46</td>\n",
       "      <td>40412.00</td>\n",
       "      <td>40480.01</td>\n",
       "      <td>40427.23</td>\n",
       "      <td>40501.23</td>\n",
       "      <td>40486.19</td>\n",
       "      <td>40502.10</td>\n",
       "      <td>40628.74</td>\n",
       "      <td>40669.26</td>\n",
       "      <td>40678.10</td>\n",
       "      <td>...</td>\n",
       "      <td>38832.29</td>\n",
       "      <td>38802.64</td>\n",
       "      <td>38735.61</td>\n",
       "      <td>39060.89</td>\n",
       "      <td>38976.76</td>\n",
       "      <td>39469.65</td>\n",
       "      <td>39394.93</td>\n",
       "      <td>39887.04</td>\n",
       "      <td>40225.98</td>\n",
       "      <td>40185.34</td>\n",
       "    </tr>\n",
       "    <tr>\n",
       "      <th>1</th>\n",
       "      <td>40412.00</td>\n",
       "      <td>40480.01</td>\n",
       "      <td>40427.23</td>\n",
       "      <td>40501.23</td>\n",
       "      <td>40486.19</td>\n",
       "      <td>40502.10</td>\n",
       "      <td>40628.74</td>\n",
       "      <td>40669.26</td>\n",
       "      <td>40678.10</td>\n",
       "      <td>40709.60</td>\n",
       "      <td>...</td>\n",
       "      <td>38802.64</td>\n",
       "      <td>38735.61</td>\n",
       "      <td>39060.89</td>\n",
       "      <td>38976.76</td>\n",
       "      <td>39469.65</td>\n",
       "      <td>39394.93</td>\n",
       "      <td>39887.04</td>\n",
       "      <td>40225.98</td>\n",
       "      <td>40185.34</td>\n",
       "      <td>40227.57</td>\n",
       "    </tr>\n",
       "    <tr>\n",
       "      <th>2</th>\n",
       "      <td>40480.01</td>\n",
       "      <td>40427.23</td>\n",
       "      <td>40501.23</td>\n",
       "      <td>40486.19</td>\n",
       "      <td>40502.10</td>\n",
       "      <td>40628.74</td>\n",
       "      <td>40669.26</td>\n",
       "      <td>40678.10</td>\n",
       "      <td>40709.60</td>\n",
       "      <td>40407.33</td>\n",
       "      <td>...</td>\n",
       "      <td>38735.61</td>\n",
       "      <td>39060.89</td>\n",
       "      <td>38976.76</td>\n",
       "      <td>39469.65</td>\n",
       "      <td>39394.93</td>\n",
       "      <td>39887.04</td>\n",
       "      <td>40225.98</td>\n",
       "      <td>40185.34</td>\n",
       "      <td>40227.57</td>\n",
       "      <td>40346.97</td>\n",
       "    </tr>\n",
       "    <tr>\n",
       "      <th>3</th>\n",
       "      <td>40427.23</td>\n",
       "      <td>40501.23</td>\n",
       "      <td>40486.19</td>\n",
       "      <td>40502.10</td>\n",
       "      <td>40628.74</td>\n",
       "      <td>40669.26</td>\n",
       "      <td>40678.10</td>\n",
       "      <td>40709.60</td>\n",
       "      <td>40407.33</td>\n",
       "      <td>40298.26</td>\n",
       "      <td>...</td>\n",
       "      <td>39060.89</td>\n",
       "      <td>38976.76</td>\n",
       "      <td>39469.65</td>\n",
       "      <td>39394.93</td>\n",
       "      <td>39887.04</td>\n",
       "      <td>40225.98</td>\n",
       "      <td>40185.34</td>\n",
       "      <td>40227.57</td>\n",
       "      <td>40346.97</td>\n",
       "      <td>40426.08</td>\n",
       "    </tr>\n",
       "    <tr>\n",
       "      <th>4</th>\n",
       "      <td>40501.23</td>\n",
       "      <td>40486.19</td>\n",
       "      <td>40502.10</td>\n",
       "      <td>40628.74</td>\n",
       "      <td>40669.26</td>\n",
       "      <td>40678.10</td>\n",
       "      <td>40709.60</td>\n",
       "      <td>40407.33</td>\n",
       "      <td>40298.26</td>\n",
       "      <td>40459.92</td>\n",
       "      <td>...</td>\n",
       "      <td>38976.76</td>\n",
       "      <td>39469.65</td>\n",
       "      <td>39394.93</td>\n",
       "      <td>39887.04</td>\n",
       "      <td>40225.98</td>\n",
       "      <td>40185.34</td>\n",
       "      <td>40227.57</td>\n",
       "      <td>40346.97</td>\n",
       "      <td>40426.08</td>\n",
       "      <td>40554.71</td>\n",
       "    </tr>\n",
       "    <tr>\n",
       "      <th>...</th>\n",
       "      <td>...</td>\n",
       "      <td>...</td>\n",
       "      <td>...</td>\n",
       "      <td>...</td>\n",
       "      <td>...</td>\n",
       "      <td>...</td>\n",
       "      <td>...</td>\n",
       "      <td>...</td>\n",
       "      <td>...</td>\n",
       "      <td>...</td>\n",
       "      <td>...</td>\n",
       "      <td>...</td>\n",
       "      <td>...</td>\n",
       "      <td>...</td>\n",
       "      <td>...</td>\n",
       "      <td>...</td>\n",
       "      <td>...</td>\n",
       "      <td>...</td>\n",
       "      <td>...</td>\n",
       "      <td>...</td>\n",
       "      <td>...</td>\n",
       "    </tr>\n",
       "    <tr>\n",
       "      <th>65</th>\n",
       "      <td>39752.40</td>\n",
       "      <td>39656.49</td>\n",
       "      <td>39490.00</td>\n",
       "      <td>39421.18</td>\n",
       "      <td>39661.56</td>\n",
       "      <td>39703.74</td>\n",
       "      <td>39499.99</td>\n",
       "      <td>39633.37</td>\n",
       "      <td>39548.31</td>\n",
       "      <td>39450.12</td>\n",
       "      <td>...</td>\n",
       "      <td>39388.51</td>\n",
       "      <td>39321.02</td>\n",
       "      <td>39415.46</td>\n",
       "      <td>39385.01</td>\n",
       "      <td>39634.26</td>\n",
       "      <td>39773.99</td>\n",
       "      <td>39714.94</td>\n",
       "      <td>39679.31</td>\n",
       "      <td>39560.13</td>\n",
       "      <td>39094.46</td>\n",
       "    </tr>\n",
       "    <tr>\n",
       "      <th>66</th>\n",
       "      <td>39656.49</td>\n",
       "      <td>39490.00</td>\n",
       "      <td>39421.18</td>\n",
       "      <td>39661.56</td>\n",
       "      <td>39703.74</td>\n",
       "      <td>39499.99</td>\n",
       "      <td>39633.37</td>\n",
       "      <td>39548.31</td>\n",
       "      <td>39450.12</td>\n",
       "      <td>38855.47</td>\n",
       "      <td>...</td>\n",
       "      <td>39321.02</td>\n",
       "      <td>39415.46</td>\n",
       "      <td>39385.01</td>\n",
       "      <td>39634.26</td>\n",
       "      <td>39773.99</td>\n",
       "      <td>39714.94</td>\n",
       "      <td>39679.31</td>\n",
       "      <td>39560.13</td>\n",
       "      <td>39094.46</td>\n",
       "      <td>39287.09</td>\n",
       "    </tr>\n",
       "    <tr>\n",
       "      <th>67</th>\n",
       "      <td>39490.00</td>\n",
       "      <td>39421.18</td>\n",
       "      <td>39661.56</td>\n",
       "      <td>39703.74</td>\n",
       "      <td>39499.99</td>\n",
       "      <td>39633.37</td>\n",
       "      <td>39548.31</td>\n",
       "      <td>39450.12</td>\n",
       "      <td>38855.47</td>\n",
       "      <td>39095.81</td>\n",
       "      <td>...</td>\n",
       "      <td>39415.46</td>\n",
       "      <td>39385.01</td>\n",
       "      <td>39634.26</td>\n",
       "      <td>39773.99</td>\n",
       "      <td>39714.94</td>\n",
       "      <td>39679.31</td>\n",
       "      <td>39560.13</td>\n",
       "      <td>39094.46</td>\n",
       "      <td>39287.09</td>\n",
       "      <td>39438.12</td>\n",
       "    </tr>\n",
       "    <tr>\n",
       "      <th>68</th>\n",
       "      <td>39421.18</td>\n",
       "      <td>39661.56</td>\n",
       "      <td>39703.74</td>\n",
       "      <td>39499.99</td>\n",
       "      <td>39633.37</td>\n",
       "      <td>39548.31</td>\n",
       "      <td>39450.12</td>\n",
       "      <td>38855.47</td>\n",
       "      <td>39095.81</td>\n",
       "      <td>39091.17</td>\n",
       "      <td>...</td>\n",
       "      <td>39385.01</td>\n",
       "      <td>39634.26</td>\n",
       "      <td>39773.99</td>\n",
       "      <td>39714.94</td>\n",
       "      <td>39679.31</td>\n",
       "      <td>39560.13</td>\n",
       "      <td>39094.46</td>\n",
       "      <td>39287.09</td>\n",
       "      <td>39438.12</td>\n",
       "      <td>39899.43</td>\n",
       "    </tr>\n",
       "    <tr>\n",
       "      <th>69</th>\n",
       "      <td>39661.56</td>\n",
       "      <td>39703.74</td>\n",
       "      <td>39499.99</td>\n",
       "      <td>39633.37</td>\n",
       "      <td>39548.31</td>\n",
       "      <td>39450.12</td>\n",
       "      <td>38855.47</td>\n",
       "      <td>39095.81</td>\n",
       "      <td>39091.17</td>\n",
       "      <td>39253.70</td>\n",
       "      <td>...</td>\n",
       "      <td>39634.26</td>\n",
       "      <td>39773.99</td>\n",
       "      <td>39714.94</td>\n",
       "      <td>39679.31</td>\n",
       "      <td>39560.13</td>\n",
       "      <td>39094.46</td>\n",
       "      <td>39287.09</td>\n",
       "      <td>39438.12</td>\n",
       "      <td>39899.43</td>\n",
       "      <td>40283.71</td>\n",
       "    </tr>\n",
       "  </tbody>\n",
       "</table>\n",
       "<p>70 rows × 96 columns</p>\n",
       "</div>"
      ],
      "text/plain": [
       "          0         1         2         3         4         5         6    \n",
       "0   40726.46  40412.00  40480.01  40427.23  40501.23  40486.19  40502.10  \\\n",
       "1   40412.00  40480.01  40427.23  40501.23  40486.19  40502.10  40628.74   \n",
       "2   40480.01  40427.23  40501.23  40486.19  40502.10  40628.74  40669.26   \n",
       "3   40427.23  40501.23  40486.19  40502.10  40628.74  40669.26  40678.10   \n",
       "4   40501.23  40486.19  40502.10  40628.74  40669.26  40678.10  40709.60   \n",
       "..       ...       ...       ...       ...       ...       ...       ...   \n",
       "65  39752.40  39656.49  39490.00  39421.18  39661.56  39703.74  39499.99   \n",
       "66  39656.49  39490.00  39421.18  39661.56  39703.74  39499.99  39633.37   \n",
       "67  39490.00  39421.18  39661.56  39703.74  39499.99  39633.37  39548.31   \n",
       "68  39421.18  39661.56  39703.74  39499.99  39633.37  39548.31  39450.12   \n",
       "69  39661.56  39703.74  39499.99  39633.37  39548.31  39450.12  38855.47   \n",
       "\n",
       "          7         8         9   ...        86        87        88        89   \n",
       "0   40628.74  40669.26  40678.10  ...  38832.29  38802.64  38735.61  39060.89  \\\n",
       "1   40669.26  40678.10  40709.60  ...  38802.64  38735.61  39060.89  38976.76   \n",
       "2   40678.10  40709.60  40407.33  ...  38735.61  39060.89  38976.76  39469.65   \n",
       "3   40709.60  40407.33  40298.26  ...  39060.89  38976.76  39469.65  39394.93   \n",
       "4   40407.33  40298.26  40459.92  ...  38976.76  39469.65  39394.93  39887.04   \n",
       "..       ...       ...       ...  ...       ...       ...       ...       ...   \n",
       "65  39633.37  39548.31  39450.12  ...  39388.51  39321.02  39415.46  39385.01   \n",
       "66  39548.31  39450.12  38855.47  ...  39321.02  39415.46  39385.01  39634.26   \n",
       "67  39450.12  38855.47  39095.81  ...  39415.46  39385.01  39634.26  39773.99   \n",
       "68  38855.47  39095.81  39091.17  ...  39385.01  39634.26  39773.99  39714.94   \n",
       "69  39095.81  39091.17  39253.70  ...  39634.26  39773.99  39714.94  39679.31   \n",
       "\n",
       "          90        91        92        93        94        95  \n",
       "0   38976.76  39469.65  39394.93  39887.04  40225.98  40185.34  \n",
       "1   39469.65  39394.93  39887.04  40225.98  40185.34  40227.57  \n",
       "2   39394.93  39887.04  40225.98  40185.34  40227.57  40346.97  \n",
       "3   39887.04  40225.98  40185.34  40227.57  40346.97  40426.08  \n",
       "4   40225.98  40185.34  40227.57  40346.97  40426.08  40554.71  \n",
       "..       ...       ...       ...       ...       ...       ...  \n",
       "65  39634.26  39773.99  39714.94  39679.31  39560.13  39094.46  \n",
       "66  39773.99  39714.94  39679.31  39560.13  39094.46  39287.09  \n",
       "67  39714.94  39679.31  39560.13  39094.46  39287.09  39438.12  \n",
       "68  39679.31  39560.13  39094.46  39287.09  39438.12  39899.43  \n",
       "69  39560.13  39094.46  39287.09  39438.12  39899.43  40283.71  \n",
       "\n",
       "[70 rows x 96 columns]"
      ]
     },
     "execution_count": 21,
     "metadata": {},
     "output_type": "execute_result"
    }
   ],
   "source": [
    "pd.DataFrame(train_gen.__getitem__(0)[0])"
   ]
  },
  {
   "attachments": {},
   "cell_type": "markdown",
   "metadata": {},
   "source": [
    "### y for first batch in train_gen (as pd dataframe)"
   ]
  },
  {
   "cell_type": "code",
   "execution_count": 22,
   "metadata": {},
   "outputs": [
    {
     "data": {
      "text/html": [
       "<div>\n",
       "<style scoped>\n",
       "    .dataframe tbody tr th:only-of-type {\n",
       "        vertical-align: middle;\n",
       "    }\n",
       "\n",
       "    .dataframe tbody tr th {\n",
       "        vertical-align: top;\n",
       "    }\n",
       "\n",
       "    .dataframe thead th {\n",
       "        text-align: right;\n",
       "    }\n",
       "</style>\n",
       "<table border=\"1\" class=\"dataframe\">\n",
       "  <thead>\n",
       "    <tr style=\"text-align: right;\">\n",
       "      <th></th>\n",
       "      <th>0</th>\n",
       "    </tr>\n",
       "  </thead>\n",
       "  <tbody>\n",
       "    <tr>\n",
       "      <th>0</th>\n",
       "      <td>40227.57</td>\n",
       "    </tr>\n",
       "    <tr>\n",
       "      <th>1</th>\n",
       "      <td>40346.97</td>\n",
       "    </tr>\n",
       "    <tr>\n",
       "      <th>2</th>\n",
       "      <td>40426.08</td>\n",
       "    </tr>\n",
       "    <tr>\n",
       "      <th>3</th>\n",
       "      <td>40554.71</td>\n",
       "    </tr>\n",
       "    <tr>\n",
       "      <th>4</th>\n",
       "      <td>40474.98</td>\n",
       "    </tr>\n",
       "    <tr>\n",
       "      <th>...</th>\n",
       "      <td>...</td>\n",
       "    </tr>\n",
       "    <tr>\n",
       "      <th>65</th>\n",
       "      <td>39287.09</td>\n",
       "    </tr>\n",
       "    <tr>\n",
       "      <th>66</th>\n",
       "      <td>39438.12</td>\n",
       "    </tr>\n",
       "    <tr>\n",
       "      <th>67</th>\n",
       "      <td>39899.43</td>\n",
       "    </tr>\n",
       "    <tr>\n",
       "      <th>68</th>\n",
       "      <td>40283.71</td>\n",
       "    </tr>\n",
       "    <tr>\n",
       "      <th>69</th>\n",
       "      <td>40083.32</td>\n",
       "    </tr>\n",
       "  </tbody>\n",
       "</table>\n",
       "<p>70 rows × 1 columns</p>\n",
       "</div>"
      ],
      "text/plain": [
       "           0\n",
       "0   40227.57\n",
       "1   40346.97\n",
       "2   40426.08\n",
       "3   40554.71\n",
       "4   40474.98\n",
       "..       ...\n",
       "65  39287.09\n",
       "66  39438.12\n",
       "67  39899.43\n",
       "68  40283.71\n",
       "69  40083.32\n",
       "\n",
       "[70 rows x 1 columns]"
      ]
     },
     "execution_count": 22,
     "metadata": {},
     "output_type": "execute_result"
    }
   ],
   "source": [
    "pd.DataFrame(train_gen.__getitem__(0)[1])"
   ]
  },
  {
   "attachments": {},
   "cell_type": "markdown",
   "metadata": {},
   "source": [
    "# Training"
   ]
  },
  {
   "cell_type": "code",
   "execution_count": 28,
   "metadata": {},
   "outputs": [
    {
     "name": "stdout",
     "output_type": "stream",
     "text": [
      "Epoch 1/100\n"
     ]
    },
    {
     "name": "stderr",
     "output_type": "stream",
     "text": [
      "C:\\Users\\Evgeny\\AppData\\Local\\Temp\\ipykernel_1332\\2256605589.py:16: UserWarning: `Model.fit_generator` is deprecated and will be removed in a future version. Please use `Model.fit`, which supports generators.\n",
      "  model.fit_generator(train_gen, epochs=100, validation_data=valid_gen, callbacks=early_stopping)\n"
     ]
    },
    {
     "name": "stdout",
     "output_type": "stream",
     "text": [
      "80/80 [==============================] - 20s 170ms/step - loss: 22549.4121 - accuracy: 0.0000e+00 - val_loss: 17785.6191 - val_accuracy: 0.0000e+00\n",
      "Epoch 2/100\n",
      "79/80 [============================>.] - ETA: 0s - loss: 22590.9629 - accuracy: 0.0000e+00"
     ]
    }
   ],
   "source": [
    "data_dim = 1\n",
    "\n",
    "model = Sequential()\n",
    "\n",
    "model.add(InputLayer(input_shape=(look_back, data_dim)))\n",
    "model.add(LSTM(32, return_sequences=True,\n",
    "               input_shape=(look_back, data_dim)))  # returns a sequence of vectors of dimension 32\n",
    "model.add(LSTM(32, return_sequences=True))  # returns a sequence of vectors of dimension 32\n",
    "model.add(LSTM(32))  # return a single vector of dimension 32\n",
    "model.add(Dense(10, activation='softmax'))\n",
    "\n",
    "early_stopping = EarlyStopping(patience=10)\n",
    "\n",
    "model.compile('adam', loss='mae', metrics=['accuracy'])\n",
    "\n",
    "model.fit_generator(train_gen, epochs=100, validation_data=valid_gen, callbacks=early_stopping)"
   ]
  }
 ],
 "metadata": {
  "kernelspec": {
   "display_name": ".venv",
   "language": "python",
   "name": "python3"
  },
  "language_info": {
   "codemirror_mode": {
    "name": "ipython",
    "version": 3
   },
   "file_extension": ".py",
   "mimetype": "text/x-python",
   "name": "python",
   "nbconvert_exporter": "python",
   "pygments_lexer": "ipython3",
   "version": "3.10.0"
  },
  "orig_nbformat": 4
 },
 "nbformat": 4,
 "nbformat_minor": 2
}
